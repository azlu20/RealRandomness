{
  "nbformat": 4,
  "nbformat_minor": 0,
  "metadata": {
    "colab": {
      "provenance": [],
      "authorship_tag": "ABX9TyNTHJ86S4Kf3mPRLdbd1TEg",
      "include_colab_link": true
    },
    "kernelspec": {
      "name": "python3",
      "display_name": "Python 3"
    },
    "language_info": {
      "name": "python"
    }
  },
  "cells": [
    {
      "cell_type": "markdown",
      "metadata": {
        "id": "view-in-github",
        "colab_type": "text"
      },
      "source": [
        "<a href=\"https://colab.research.google.com/github/azlu20/RealRandomness/blob/main/random_binclass.ipynb\" target=\"_parent\"><img src=\"https://colab.research.google.com/assets/colab-badge.svg\" alt=\"Open In Colab\"/></a>"
      ]
    },
    {
      "cell_type": "code",
      "execution_count": null,
      "metadata": {
        "id": "WlgC4jmRHzkc"
      },
      "outputs": [],
      "source": [
        "#importing the libraries\n",
        "import torch\n",
        "import numpy as np\n",
        "import matplotlib.pyplot as plt\n",
        "import random"
      ]
    },
    {
      "cell_type": "code",
      "source": [
        "class MachineRandomText():\n",
        "  #label of 0 as machine generated text\n",
        "  def __init__(self, total_labels):\n",
        "    self.dataset = []\n",
        "    self.label = [0 for i in range(0, total_labels)]\n",
        "    self.label[0] = 1\n",
        "    self.unpartitioned = \"\"\n",
        "\n",
        "  \n",
        "  def generateNText(self, occurences, string_length):\n",
        "    \n",
        "    for i in range(0, occurences):\n",
        "      curText = \"\"\n",
        "      for i in range(0, string_length):\n",
        "        random_int = random.randint(97, 122)\n",
        "        curText += chr(random_int)\n",
        "      self.unpartitioned += curText\n",
        "      self.dataset.append(curText)\n",
        "\n",
        "   "
      ],
      "metadata": {
        "id": "INk7QRGmH_3L"
      },
      "execution_count": null,
      "outputs": []
    },
    {
      "cell_type": "code",
      "source": [
        "class UserRandomText():\n",
        "  def __init__(self, label_number, total_labels, length):\n",
        "    self.dataset = []\n",
        "    self.label = [0 for i in range(0, total_labels)]\n",
        "    self.label[label_number] = 1\n",
        "    self.i = 0\n",
        "    self.length = length\n",
        "    self.unpartitioned = \"\"\n",
        "  \n",
        "  def generateNText(self, occurences, string_length):\n",
        "    curText = input(f\"Type {occurences * string_length}\")\n",
        "\n",
        "\n",
        "    while occurences > 0:\n",
        "      if self.i+self.length < len(curText):\n",
        "        if self.splitUserInput(curText, string_length):\n",
        "          occurences -= 1\n",
        "      else:\n",
        "        curText = input(f\"Type {occurences * string_length}\")\n",
        "        self.i = 0\n",
        "    \n",
        "  \n",
        "  def splitUserInput(self, curText, string_length):\n",
        "      counted = 0\n",
        "      string = \"\"\n",
        "      while counted < self.length and self.i < len(curText):\n",
        "        if ord(curText[self.i]) < 97 or ord(curText[self.i]) > 122:\n",
        "          self.i+=1\n",
        "          continue\n",
        "        else:\n",
        "          string += curText[self.i]\n",
        "          self.i+=1\n",
        "          counted += 1\n",
        "\n",
        "      if counted == self.length:\n",
        "        self.unpartitioned +=string\n",
        "        self.dataset.append(string)\n",
        "        return True\n",
        "      \n",
        "      else:\n",
        "        return False\n",
        "\n"
      ],
      "metadata": {
        "id": "muDZE2XOIARq"
      },
      "execution_count": null,
      "outputs": []
    },
    {
      "cell_type": "code",
      "source": [
        "class IdentifyClass():\n",
        "  def __init__(self, labels):\n",
        "    self.num_labels = labels\n",
        "    self.inputs = []\n",
        "  \n",
        "\n",
        "  def inputNewLabel(self, text):\n",
        "    averages = np.zeros(26)\n",
        "    for ele in text:\n",
        "      ind = ord(ele)-97\n",
        "      averages[ind] += 1\n",
        "    averages = averages/len(text)\n",
        "    self.inputs.append(averages)\n",
        "\n",
        "  def checkExistingLabel(self, text):\n",
        "    averages = np.zeros(26)\n",
        "    min_diff_squared = 1000000\n",
        "    min_label = -1\n",
        "    for ele in text:\n",
        "      ind = ord(ele)-97\n",
        "      averages[ind] += 1\n",
        "    for idx, label in enumerate(self.inputs):\n",
        "      diff = np.subtract(label, averages)\n",
        "      diff_squared = np.sum((np.absolute(diff)))\n",
        "\n",
        "      if diff_squared < min_diff_squared:\n",
        "        min_label = idx\n",
        "        min_diff_squared = diff_squared\n",
        "    \n",
        "    return min_label\n",
        "  \n",
        "\n"
      ],
      "metadata": {
        "id": "t8RbINfJ5jtb"
      },
      "execution_count": null,
      "outputs": []
    },
    {
      "cell_type": "code",
      "source": [
        "class FingerDetect(IdentifyClass):\n",
        "  def __init__(self, labels):\n",
        "    super().__init__(labels)\n",
        "    self.weight_dict = {\"f\": 1, \"d\": 2, \"s\": 3, \"a\": 4, \"j\":1, \"k\":2, \"l\":3, \"q\": 4*2, \"w\": 3*2, \"e\": 2*2, \"r\": 2, \"t\": 2.5, \"y\":2.5, \"u\":2, \"i\": 2*2, \"o\": 3*2, \"p\": 4*2, \"z\": 2.5*4, \"x\": 2.5*3, \"c\": 2.5*2, \"v\": 2.5, \"b\": 2.5, \"n\": 2.5 * 2, \"m\": 2.5*3}\n",
        " \n",
        "  \n",
        "  def inputNewLabel(self, text):\n",
        "    total_weight = 0\n",
        "    for ele in text:\n",
        "      if ele in self.weight_dict:\n",
        "        weight = self.weight_dict[ele]\n",
        "        total_weight += weight\n",
        "    average_weight = total_weight/len(text)\n",
        "    self.inputs.append(average_weight)\n",
        "  \n",
        "  def checkExistingLabel(self, text):\n",
        "    total_weight = 0\n",
        "    min_val = None\n",
        "    min_label = None\n",
        "    for ele in text:\n",
        "      if ele in self.weight_dict:\n",
        "        weight = self.weight_dict[ele]\n",
        "        total_weight += weight\n",
        "    average_weight = total_weight/len(text)\n",
        "    print(average_weight)\n",
        "    \n",
        "    for idx, label in enumerate(self.inputs):\n",
        "      diff = abs(average_weight - label)\n",
        "      if min_val is not None:\n",
        "        if diff < min_val:\n",
        "          min_val = diff\n",
        "          min_label = idx\n",
        "      else:\n",
        "        min_val = diff\n",
        "        min_label = idx\n",
        "    return min_label"
      ],
      "metadata": {
        "id": "XJf3H9urBc2h"
      },
      "execution_count": null,
      "outputs": []
    },
    {
      "cell_type": "code",
      "source": [
        "input_length = 3"
      ],
      "metadata": {
        "id": "ljBUmDMdbpo_"
      },
      "execution_count": null,
      "outputs": []
    },
    {
      "cell_type": "code",
      "source": [
        "o_user = UserRandomText(label_number=1, total_labels=2, length=input_length)\n",
        "o_user.generateNText(2000, input_length)\n"
      ],
      "metadata": {
        "colab": {
          "base_uri": "https://localhost:8080/"
        },
        "id": "6QtF0jZfIDLY",
        "outputId": "e838b3d0-c6dd-4811-a3f2-4e8e9ae09754"
      },
      "execution_count": null,
      "outputs": [
        {
          "name": "stdout",
          "output_type": "stream",
          "text": [
            "Type 6000ifulhdasfkajsdfkljashdfklajhweljfhbwaelufawgeulfygwaefuygweuogqyeiruflakjsdnsvbjchvbjkcvdhaiuhiuagiaoefuoawygeuowgefwtaedfiuaydfiasuhdfaiuhdfasjdfjashdfasjdegyeuoyfgwaelfweufwafaedyfalefawlefaf;oiahsdifuhasldkjhfasldjhfjvkxjiwueiueyhfaiwoehfaoiuefiasoudfiasuhdfiusdfiuashdiofuadiofuasdiofuyasidufawueyh8oqeyyfqoe8yrgtqoerygaudfiaushdfasdhfjxckvjzxcjvnsdhfiasudfiasudfaspoidfupaweupwewoiefwoauefioausdfiasdfsdkjhsahdaudhfisaudiaousdfoaisudfipwaueyfhoweygfuoyrgfiuashdfjsadjbvjbjhasdpifhasifasfiusahifdouasdfuasdiofuahdiffasdf9as8ydfao8sfoasuiouyfiufyiofaskdhfakjsnnnvxcjvhiuahfailsdhfakjsdhfkajshdfofhqileuhwqeilfuhqwileufhidhfakljdfaskjdfaksjdfksjadflasjdflsajdfalsjdalksjdflkasjdjcjbjdfasldjhfasdklfhadfheiouqhweygqweiufhwieflsadflkjasdhflasjdfljbdnbdjfhadifasdlkfjadlkfjasdfashfdauiehfpqiwehfqiurhfquoygrquoirhquyrgqruhgiugyhiadmbduifhalkdjfasldjjcbasdifiuqhewuoqgyrfuyrguqeyrguhrflsaklfjashdlkfjhasdlkfjasldkjfasldkjfeiuahiwuefawefoqgyqriuhqerififleuahldfhasdjsakjnsakjdfnsdsaljdnasjdnajbkndkfnadadmcasdfisfhasiludfhakdlfhiqequoygfueyrgiuhadifuahsdlihdjdiuhipruhgoygiuhgiuaeauisdyufgauiqeiuqrgyqerghjdajbadjnkdfaksjfhdasjdhsaidflhasldfjhaslkdfjahsdjfqeoiqhwefiygeufyhasdiufhalfdadfkjakldjfasdlkfjaskldjakldvajdaksjdaskjfdaksjfhasifdaopifaopfiajpofijasopfuhaifpuhaieufhawiefuhaiefhuawieuhwapeuhipweuhqieyhfouyegfahedfaisudhfasjdhalsjdgkcbcjhvseguyrguygrhoirugaoufgaudfhasdfaksjdajsdaskdjadjfhaslfjbdjfnamnsadhfaldfhasdjfihweioufhwieufhiweufhwieufhaushfdaskjdfhaslkdjhfalksdjhfaskdjfhalkdjhadfjheiguhqrugyqehrifaepodifadfahsdifuajsnkvxnbcjbaieufaoeifaopefwpiuefhaiudhjlbzkjdnaskldjfalkjdfaupihqoiehqrygiauhfasjdfhaslkjdfhaskjldflaksjdhfvjcbvnxvadkjfhadjfhadfkljashdflkjasdhfaaphfweifuwahefpqgipuqhgiufiasdfaskljdfhsakjdfasjdvdjkfakjsdfasdfjasdfasdfkjhasdfhasdkfjasdfkjsadfasdfoiqpfuqeiufhqwieufweifadkfjasdklfjasdlfkhasdfhasdlkfjasdljhfafaisudhfaklsjdfklasjdflkasjdnaksjdkasjdfasiufhasdjfhaskldjfhakdjfapieufhawieufhwqieufhqweiufhiusahflajsdhfjashdfklasjdhfkajsdhfkajsdhfpehfqiweufhisunvkasndajsdfajsdfksjdhfaksdjfaklsjdfhasdoifspiduhvdiuhaiudhfaskldjfaslkdjfhaskldjfaslkdjfasdkjfaslkdjfhasldkfhawpehqwieufhwiefuaidfhasldfhaskdjfhaskldjfhaslkdjfhaslkdjadjbalkdjfhalfkashdfkjashdfohefpoqheipuqhefiquehfihuadfaisdhfklasjdfhlsdfhkwifuhihdasjdfasdkjfaslkjdlkasnfkjeiwepfoiqwiefuhieufhigoyqergiefhasdjfaskljdfaskdjbjbdafkdjhaskjlfsahdfugadfyogadfasudifuadifhasdfjhasdkfjahsdlkfjasdmvxmvjadfhasdhfakljdhfalksjdfhalksjdfhaksdjfhakdjfahsdfpahdifuhasdfyasdfiuashdfljashdflkjahdflkajsdhfkajehfnaiweufhwaeygfaeiufhaieufhaudyfhasidfasdjfhalskdjfhasljdfhlasjdiuhdujhadfjasdjfoasdjflsakdkasdkadasjdfajdfjadkfjasodjfsadpfiaspdfasdpfiuasdofpiasjdofijasdfopaijdfoasidjfasdfjasldfkjasldkfjasldkfajsdkmakmadkjldkfjadfkjpiiefoiaoapsdfhiaudfhadfyahdfiajdfajdklajdkfjadhflkajdfkljadfklajdfkajdfsadjfhaskdjlfabnakdjlfasdkfjaskdfhaskljdfduadoifuoadiufjiosdajbhaiubhadiufasudfyqh8oyf8qeyf8q7eyfiuahsdufihasdiufhuyruyewruyhrfiuadiofuhdsiofhadjfhadifhadifjhadifhadiabadhasidfasdiufasidufhaidufhaisdufhaisduhfaiduhfaioudfaisudfiasodufasdhfaodiufhadoufhaodiufhiouhiouhqioeufhqwieoufhiouhsdifuashdibjadfadfjasdnfasoiduhfadufad8uhfao8dyfa8erygeuyghoigqirgoquryghqidofjioaudfasidfasdifhaodsufhasiodufahsdoyfasdufhasidoufasdjbafjadifasdifasdifuahdfiouahsdffdlkfjasdfaskdhfksadfksdfhkasjdfkwefoweofuwelfqiefyqetfqwefqwefqw,fdkfhsdhfasdfsfkashdkfuhasdlifslifohqieqeljo;ijwqopeifiquehfiyhifuasdkjfdfnbdkjfasfjaskdjfaskdfjaskdfjefqweflqwheflqwjhefilhdsfkjashdflajshdljgkjlagkljadfklajsdflkjasdhfkjsdnjknakakjnajnbdjnadmnvamvasudhfaslkdjhfaljdfgiqhegilqehrgyqerhiguheflkahsdlkfjsahdlkhdlrkgjeirhgqerigqeyrghiuhflkjashdflahsdfajklsdjflaskbnakjdfkasjhdfaiuhfawioefuhkjnskjnfakljflakjefklajdnfkajsdfklsjdjlaeliguheqiroheuorgyqeiufhisdahflkasjdfklasjnbkjandlkajfdnsakjdnsakdjnalkdjfhaskldjfaslkdjfaehfaqepighqeigheryguhaidufhasidfasiduhfalsjdfaskljdnlkasjdgkljngkjbfadjadmbncxkcbjaifhadfjasdklfhjdkfpqeoqwoeriweufqiweufhqiuwhefiluhwifuhdfahdfkjasdhfkjsadfsadfpasdpifhasidufhasidlfuhasidufhaslidfuhasildfjhslkhjgerghgrqprhqiruhqgoyrghqeuygthghkdjfhaskdjalkdjdfkjbdfjvnfvdnvdlfhadjfhskdjfaksdjfasdhfasdijfahskldfhksdjfhakljdhfkajsdfkajshdfaksjdhfaljfdqeiquwhefqieyhfiuhdfhalskdjfslkjdfaskjdhfaslkjdfhaskljdhfaslkjdhfaskldjfhaslkdjfhadlkjfhadkjfhiuhygeruygqoeuhiuefiquhefjhdfkjahsdkfjhsdfsahghfadvbnxvjdhfadfhakdjfkjdhfsdhfqehuqeqeuhqehqeiouhqweiurhqiwuerhqiwuerhqiuwheiuqeuqeuihfljaskdjfhsdkjfhdkjfhadkjfhadjfhasdfjhasdkfjhasdfjhadlkfjhgjhadkhieuhgqughqieuhiuwheiywfhiuhsdfiasdfiashdkfjhasdfkljhasdkfjhsadjkfhsalkjhasdjfhaskjdfhaskdjfhaldfhaldkjfhskjhdjkhajkdfasjdhfasjdhasjdhfakhdfqepqfieiquwehilqwuehqiuherihelquhefuhfasjdhfsajdfhasjhdfakjsdhfkalsjdhfaksdhfasldhfadhfaklsjdhfalkdhfihuythiasdhfiuahfialsdhjbjdfadjfaudhfasjdfsajhdflkajshdflkashdfklahdflahdjfpqehiqouhqeryhiquehfiquryiurhgeiuhfqiehfsdfaksjdhflkasjdflsajhdkasjhdflaksjdfaskldjhaskldjfhsdlkjfhasdkjfsjdjnjnckjdfhaksdjfhaksdfhpqeiuhqeifuhqwieufhwieufliwefhaiudhfaslkdjhfalskdfhasdfhilgheiuhiehifadhfasdfasdfhsdhfapdfiuhrgiuqrhiuhelhfasldjfsadkjfhadkjhfadlfhadfasldfhasldfhadlfhasdifhadifhadfiuahsdfiuhsdihawpfhaidufhasdiuhfasdfjflajsdhflasdfoiaudiuhfdjbalfhoygruyerhiuaehfoiaudhfaoudhfaoisdufhaoisdufhasoidjfbfasdfakjfafnklasjdfklasjndflkajneilawjehioawuehoiawuehioawuefhiaeuhfaidfhasjdhforguyergiuajdfaksmxnckbncjasdfjasodfijasodifjaspodifjaspodiaspodiaspodifaopdifapoidjfoaijdawphe9awheuhweioawuheiofauedifuhasdifasdfjakdljfhadjhadkjadjadajckjnxcvnkjfasdkfjasdfsdifsdifjasopdifjaspodijasodifjadoijfaodijfaoidjpaigpaweigpawiegiwarugeyhgeriugaoiasdkfjsdjnkccmckjadfjasdopfijasoeigirygherhaigaproqpogiqjrpgijefasjdfkasjdiuhdfgiudshgieshygiyehrgiuarigahdifauhdfksdfkjsdjjkbckvmxdjajdfajsdpfoiasdpofaidpoiapoawiaurhgiauehfiauehfaiufhasidfhasdyasdiuhasidfhasidufhasdkjxkjbkcvxkja[fafjpawiehipawuhgiriyqhiergiuahrgpiuagpiuhrijsdfkjlkjnkbyhrhyergihofadfijsdoifjskkcvkxcvkzvzxkaijfpoaisdfoiiuhriuhgawoei[ePEOFIpeofiapoifaopdiaeiuhawiuhawieuwaieawyhrghergerhgifksavmncmbcjadfjadgdgejiipeuawpieyeyrgoifajdfjsadfkjasdkfjsadkfasdkjfadjfasdjasdajsdjdjbkcxcvzxkcvdjaoifaosjifaoidfjaoifaiufdayfaweiaoidfaosidjfaodifjaiuehawiueiurhgiquerhgqyryhgqeuhfasdfjdkfdkfadkfadkfadfkjadkkfcaoidfjaodifjasoidfaoifjpsodijfopdifapiairufwauefauhfehuaifeasf;jhsdfgrsleiorheijif.rjeiajhbwijefou;grelhfijamkdbmeajkea,rhjeiorhykauolui;oqeuthljfjdkdkjvkcjjdjfsdfjsdfasdfdfjvkzjsio;dulfaweirluaerihyeluawiryauwreshlauwisekhldhfbsjdfoisdjfisdjfasdcvxkcvjdjaoidjfaosidfsoidfasodifawpuhfaiuhroyrhaoraowuhqeqprgiqoehiuqrhgiquehyoethiedfdfdjfskjdfkdfksjdfksjdujgidjglkfjglkdsjfgl;ksdjfgksfgknfbvbfkgsdfgkjsdf;gdsfgsdjflkgjwwot;ijwiu;rghwiuthiwuhrgiuegksfgksdfcxxcvkdsfkgsgjslfkgslkfbkbsfkgsdjfkgjsdo;gjksdfogjituhwritugwipuhgwipuhgwierhgoer;ijgow;eirwo;tijwoijhwotihjwlithljgskdfgsd;kfgdkfjgdkfkkfbnmkvdjfgsdjfgsfjgfgsdfjgsodfjgsodi;fgjwotihwiuthwituhwirjgdfjgs;dklfnbfkjncvmsjrsfsg;lsjgsojgoiejrgewrpgwoigwtiuwthgowiergiuewrhgiuegdoijfgoidfjgdfgdskfjx,mbkjsfgisjdfogsidjfgoiwptwhiuthwithiurguthgjdfgsjdfgksjdfbkmcvkxmbk;pgskjglrgjsgojig;wowiriguhewruigwerjgieroijgoijgsoidfjgodsijfgosdifgowiwgwyghgyusdfhuigsfgisfgisdfijfdgbvbmxvbfgojiogijsfo;gisjfoisdjfoigjsdofgoijrgowtiwhtiuwhgiwrthirufghsdkfjsdfjgsdkgsdnfkgjdsifgsfgsifgwirhwithwuiothwgwfj\n"
          ]
        }
      ]
    },
    {
      "cell_type": "code",
      "source": [
        "o_machine = MachineRandomText(total_labels=2)\n",
        "o_machine.generateNText(2000, input_length)"
      ],
      "metadata": {
        "id": "ocjmlamnISB1"
      },
      "execution_count": null,
      "outputs": []
    },
    {
      "cell_type": "code",
      "source": [
        "validation_machine = MachineRandomText(total_labels=2)\n",
        "validation_machine.generateNText(100, input_length)"
      ],
      "metadata": {
        "id": "u4qqi_yR91eb"
      },
      "execution_count": null,
      "outputs": []
    },
    {
      "cell_type": "code",
      "source": [
        "heuristic_1 = IdentifyClass(2)\n",
        "heuristic_1.inputNewLabel(o_user.unpartitioned)\n",
        "heuristic_1.inputNewLabel(o_machine.unpartitioned)\n",
        "print(heuristic_1.checkExistingLabel(validation_machine.unpartitioned))\n",
        "\n",
        "\n",
        "print(heuristic_1.inputs[0])\n"
      ],
      "metadata": {
        "colab": {
          "base_uri": "https://localhost:8080/"
        },
        "id": "EtFsJ3Fn7zce",
        "outputId": "888d1e16-4f64-421a-b2d6-736b721e5dc0"
      },
      "execution_count": null,
      "outputs": [
        {
          "output_type": "stream",
          "name": "stdout",
          "text": [
            "1\n",
            "[0.11933333 0.0075     0.00516667 0.108      0.03916667 0.12183333\n",
            " 0.01966667 0.08833333 0.06933333 0.075      0.05183333 0.03666667\n",
            " 0.0025     0.01       0.0265     0.013      0.02016667 0.0135\n",
            " 0.0765     0.00083333 0.05233333 0.006      0.018      0.003\n",
            " 0.015      0.00083333]\n"
          ]
        }
      ]
    },
    {
      "cell_type": "code",
      "source": [
        "\n",
        "x_vals = [chr(97 + i) for i in range(0, 26)]\n",
        "plt.plot(x_vals, heuristic_1.inputs[0], label=\"User Inputted\")\n",
        "plt.plot(x_vals, heuristic_1.inputs[1], label=\"Machine Created\")\n",
        "plt.xlabel(\"Letter\")\n",
        "plt.ylabel(\"Frequency\")\n",
        "plt.legend()\n"
      ],
      "metadata": {
        "colab": {
          "base_uri": "https://localhost:8080/",
          "height": 296
        },
        "id": "a0hp8NQDSKIF",
        "outputId": "76e70795-9f2c-4330-9cee-66fff5e82bf1"
      },
      "execution_count": null,
      "outputs": [
        {
          "output_type": "execute_result",
          "data": {
            "text/plain": [
              "<matplotlib.legend.Legend at 0x7f7181a1cc70>"
            ]
          },
          "metadata": {},
          "execution_count": 65
        },
        {
          "output_type": "display_data",
          "data": {
            "text/plain": [
              "<Figure size 432x288 with 1 Axes>"
            ],
            "image/png": "[encoded data removed]"
          },
          "metadata": {
            "needs_background": "light"
          }
        }
      ]
    },
    {
      "cell_type": "code",
      "source": [
        "heuristic_2 = FingerDetect(2)\n",
        "heuristic_2.inputNewLabel(o_user.unpartitioned)\n",
        "heuristic_2.inputNewLabel(o_machine.unpartitioned)\n",
        "print(heuristic_2.checkExistingLabel(\"akdjfalskdjvkcnvkjadfpjqhgioqrhyqidfjsdjfalskdfjaighwouthwrifhsdkcjkjadjfal;sdkjflkldfjahkdlfjhaskdlfj\"))\n",
        "print(heuristic_2.inputs)\n"
      ],
      "metadata": {
        "colab": {
          "base_uri": "https://localhost:8080/"
        },
        "id": "5RnKf7WoFdsL",
        "outputId": "e2f8f108-8dcb-4f45-8834-214ba4cda1bf"
      },
      "execution_count": null,
      "outputs": [
        {
          "output_type": "stream",
          "name": "stdout",
          "text": [
            "2.4411764705882355\n",
            "0\n",
            "[2.6300833333333333, 3.8310833333333334]\n"
          ]
        }
      ]
    },
    {
      "cell_type": "code",
      "source": [
        "from torch import nn\n",
        "from torch.nn import functional as F\n",
        "class Net(nn.Module):\n",
        "  def __init__(self,input_shape):\n",
        "    super(Net,self).__init__()\n",
        "    self.fc1 = nn.Linear(input_shape,50)\n",
        "    self.fc2 = nn.Linear(50,100)\n",
        "    self.fc3 = nn.Linear(100,1)\n",
        "    \n",
        "  def forward(self,x):\n",
        "    x = torch.relu(self.fc1(x))\n",
        "    x = torch.relu(self.fc2(x))\n",
        "    x = torch.sigmoid(self.fc3(x))\n",
        "    return x"
      ],
      "metadata": {
        "id": "H3uYhaSaIiFy"
      },
      "execution_count": null,
      "outputs": []
    },
    {
      "cell_type": "code",
      "source": [
        "learning_rate = 0.0001\n",
        "epochs = 700\n",
        "model = Net(input_shape=input_length)\n",
        "optimizer = torch.optim.SGD(model.parameters(),lr=learning_rate, weight_decay= 1e-5)\n",
        "loss_fn = nn.BCELoss()"
      ],
      "metadata": {
        "id": "73IfdiQqIr9q"
      },
      "execution_count": null,
      "outputs": []
    },
    {
      "cell_type": "code",
      "source": [
        "y = []\n",
        "x = []\n",
        "a = 0\n",
        "b = 0\n",
        "\n",
        "for k in range(0, 3700):\n",
        "  select = random.randint(0,1)\n",
        "  if select == 0:\n",
        "    x.append(o_machine.dataset[a])\n",
        "    y.append(0)\n",
        "    a+=1\n",
        "  else:\n",
        "    x.append(o_user.dataset[b])\n",
        "    y.append(1)\n",
        "    b+=1\n",
        "\n",
        "print(len(x))"
      ],
      "metadata": {
        "colab": {
          "base_uri": "https://localhost:8080/"
        },
        "id": "hnMHgoZUJBn_",
        "outputId": "0a84de72-d3de-4433-c051-0cd20ca27292"
      },
      "execution_count": null,
      "outputs": [
        {
          "output_type": "stream",
          "name": "stdout",
          "text": [
            "3700\n"
          ]
        }
      ]
    },
    {
      "cell_type": "code",
      "source": [
        "new_x = []\n",
        "for ele in x:\n",
        "  cur = []\n",
        "  for char in ele:\n",
        "    cur.append(ord(char)-97)\n",
        "  new_x.append(cur)\n",
        "\n",
        "x = new_x\n",
        "print(x)"
      ],
      "metadata": {
        "colab": {
          "base_uri": "https://localhost:8080/"
        },
        "id": "HnRHO1irJ5DF",
        "outputId": "cf0f3641-50ce-416e-d579-6bde28197af3"
      },
      "execution_count": null,
      "outputs": [
        {
          "output_type": "stream",
          "name": "stdout",
          "text": [
            "[[7, 5, 19], [8, 5, 20], [17, 0, 24], [12, 10, 25], [16, 21, 15], [0, 4, 24], [0, 3, 13], [11, 7, 3], [0, 18, 5], [10, 0, 9], [8, 19, 6], [18, 3, 5], [10, 11, 9], [0, 18, 7], [0, 6, 1], [4, 3, 4], [14, 3, 25], [16, 2, 3], [2, 17, 24], [17, 5, 1], [3, 5, 10], [11, 0, 9], [17, 7, 22], [18, 3, 7], [3, 22, 13], [1, 3, 4], [7, 22, 4], [11, 17, 6], [11, 9, 5], [7, 1, 22], [0, 4, 11], [4, 15, 22], [20, 5, 0], [6, 20, 3], [17, 10, 13], [22, 6, 4], [7, 19, 17], [20, 11, 5], [24, 6, 22], [17, 11, 21], [2, 4, 6], [14, 25, 13], [0, 4, 5], [20, 24, 6], [22, 4, 20], [14, 6, 16], [15, 8, 4], [24, 4, 8], [17, 20, 5], [11, 0, 10], [13, 21, 6], [9, 18, 3], [20, 7, 21], [13, 18, 21], [1, 9, 2], [3, 25, 10], [7, 21, 1], [9, 10, 2], [5, 8, 9], [11, 5, 5], [21, 3, 7], [11, 8, 25], [0, 8, 20], [21, 11, 15], [7, 8, 20], [4, 0, 4], [23, 16, 10], [0, 6, 8], [12, 2, 10], [0, 14, 4], [5, 20, 14], [0, 22, 24], [0, 14, 22], [6, 4, 20], [4, 9, 0], [14, 22, 6], [19, 6, 16], [4, 5, 22], [19, 0, 4], [3, 5, 8], [20, 0, 24], [21, 20, 18], [3, 5, 8], [24, 5, 24], [0, 18, 20], [8, 0, 23], [7, 3, 5], [0, 8, 20], [18, 17, 6], [7, 3, 5], [24, 8, 21], [2, 12, 11], [23, 4, 22], [0, 18, 9], [2, 23, 23], [6, 10, 15], [13, 11, 3], [3, 5, 9], [6, 17, 20], [0, 18, 7], [21, 1, 16], [3, 5, 0], [11, 8, 19], [18, 9, 3], [4, 6, 24], [4, 20, 14], [24, 5, 6], [14, 7, 5], [22, 0, 4], [11, 5, 22], [11, 11, 6], [2, 18, 21], [0, 1, 0], [22, 1, 15], [19, 5, 25], [20, 11, 4], [4, 20, 5], [8, 8, 0], [22, 0, 5], [0, 4, 3], [24, 5, 24], [0, 15, 19], [24, 5, 0], [20, 2, 5], [11, 4, 5], [0, 22, 11], [4, 5, 0], [5, 14, 8], [0, 23, 22], [0, 7, 18], [3, 8, 5], [20, 7, 0], [18, 11, 3], [10, 9, 7], [5, 0, 18], [15, 2, 18], [12, 16, 25], [11, 3, 9], [7, 5, 9], [21, 10, 23], [19, 14, 17], [9, 8, 22], [20, 4, 8], [20, 4, 24], [7, 5, 0], [15, 16, 20], [8, 22, 14], [4, 7, 5], [0, 14, 8], [20, 4, 5], [8, 0, 18], [8, 24, 0], [17, 3, 0], [14, 20, 3], [5, 8, 0], [18, 20, 7], [3, 5, 8], [3, 9, 3], [17, 0, 2], [20, 18, 3], [5, 8, 20], [0, 18, 7], [22, 17, 20], [3, 8, 14], [5, 20, 0], [3, 8, 14], [6, 13, 23], [5, 20, 0], [10, 20, 7], [16, 25, 0], [16, 11, 13], [18, 3, 8], [14, 5, 20], [13, 13, 15], [20, 4, 12], [24, 0, 18], [13, 7, 13], [4, 19, 13], [11, 19, 17], [11, 13, 3], [18, 5, 21], [8, 3, 20], [17, 22, 19], [19, 6, 23], [10, 1, 4], [6, 1, 2], [25, 24, 0], [21, 9, 15], [5, 0, 22], [17, 3, 8], [14, 4, 7], [20, 4, 24], [7, 14, 16], [5, 6, 24], [10, 11, 5], [4, 24, 24], [5, 16, 14], [1, 24, 6], [4, 24, 17], [5, 6, 24], [1, 23, 13], [13, 5, 16], [6, 19, 16], [25, 13, 7], [13, 23, 16], [15, 0, 2], [14, 4, 17], [18, 13, 16], [24, 6, 0], [23, 11, 23], [22, 22, 7], [20, 3, 5], [11, 15, 13], [8, 0, 20], [16, 7, 19], [21, 9, 2], [18, 7, 3], [16, 23, 6], [5, 0, 18], [3, 7, 5], [9, 23, 2], [11, 1, 21], [23, 14, 7], [17, 6, 23], [14, 1, 24], [10, 21, 9], [25, 23, 2], [24, 10, 7], [9, 21, 13], [6, 25, 6], [18, 3, 7], [10, 3, 4], [20, 2, 12], [23, 22, 4], [5, 8, 0], [11, 3, 0], [18, 20, 3], [5, 8, 0], [18, 20, 3], [12, 9, 10], [18, 13, 17], [5, 0, 18], [15, 2, 4], [15, 14, 8], [3, 5, 20], [15, 0, 22], [4, 20, 15], [22, 4, 22], [12, 3, 16], [24, 10, 5], [11, 4, 19], [18, 18, 2], [15, 19, 18], [14, 2, 7], [10, 18, 0], [2, 24, 9], [14, 8, 4], [19, 9, 3], [22, 22, 9], [0, 19, 8], [5, 22, 14], [1, 9, 12], [20, 12, 6], [25, 4, 22], [23, 23, 4], [0, 20, 4], [8, 10, 7], [0, 14, 20], [9, 14, 18], [16, 11, 6], [5, 8, 14], [24, 20, 24], [11, 7, 9], [0, 20, 18], [3, 5, 8], [0, 18, 3], [5, 18, 3], [24, 17, 6], [10, 9, 7], [9, 2, 13], [17, 12, 17], [18, 0, 7], [0, 20, 14], [3, 0, 20], [18, 1, 8], [23, 23, 11], [3, 7, 5], [25, 4, 11], [6, 11, 17], [10, 1, 10], [8, 18, 0], [10, 8, 9], [20, 3, 8], [0, 14, 20], [18, 3, 5], [14, 0, 8], [23, 18, 19], [18, 20, 3], [13, 24, 22], [16, 3, 1], [17, 13, 10], [5, 8, 15], [24, 11, 16], [22, 0, 20], [25, 25, 4], [4, 24, 5], [18, 17, 22], [7, 14, 22], [23, 20, 20], [4, 24, 6], [5, 20, 14], [6, 21, 5], [2, 5, 24], [25, 22, 9], [24, 17, 6], [9, 1, 11], [5, 8, 20], [16, 4, 18], [9, 23, 23], [21, 4, 25], [0, 18, 7], [3, 5, 9], [18, 0, 3], [20, 19, 13], [23, 24, 23], [9, 1, 21], [22, 5, 8], [14, 24, 3], [9, 1, 9], [7, 0, 18], [3, 15, 8], [5, 7, 0], [23, 15, 7], [18, 8, 5], [3, 19, 2], [0, 18, 5], [8, 20, 18], [12, 13, 20], [0, 7, 8], [5, 3, 14], [21, 15, 20], [3, 20, 15], [20, 0, 18], [3, 5, 20], [18, 1, 10], [17, 8, 12], [2, 10, 2], [0, 18, 3], [8, 14, 5], [23, 13, 21], [20, 0, 7], [3, 8, 5], [18, 19, 10], [11, 18, 19], [5, 0, 18], [3, 5, 0], [17, 22, 23], [18, 24, 3], [5, 0, 14], [18, 5, 14], [0, 18, 20], [8, 14, 20], [4, 6, 22], [8, 8, 23], [24, 5, 8], [20, 5, 24], [8, 3, 2], [8, 14, 5], [0, 18, 10], [3, 7, 5], [0, 10, 9], [2, 10, 12], [13, 8, 21], [18, 13, 13], [20, 13, 23], [13, 21, 23], [19, 0, 2], [2, 9, 21], [7, 8, 20], [0, 3, 17], [19, 2, 6], [20, 24, 6], [0, 7, 5], [0, 8, 11], [18, 3, 7], [5, 0, 10], [0, 25, 14], [13, 24, 3], [9, 18, 3], [18, 19, 17], [1, 2, 3], [7, 5, 10], [0, 9, 18], [7, 3, 5], [10, 14, 25], [14, 5, 7], [4, 18, 15], [16, 8, 11], [4, 20, 7], [4, 20, 7], [13, 7, 17], [7, 3, 21], [22, 16, 4], [8, 11, 5], [10, 11, 10], [20, 7, 16], [4, 10, 13], [23, 23, 21], [22, 8, 11], [4, 20, 5], [23, 14, 14], [7, 8, 3], [4, 3, 18], [14, 5, 0], [0, 10, 20], [7, 5, 0], [10, 11, 9], [18, 20, 17], [8, 24, 10], [10, 11, 7], [10, 3, 22], [3, 5, 0], [0, 4, 13], [18, 10, 9], [3, 5, 0], [9, 1, 10], [10, 18, 9], [3, 5, 10], [14, 17, 19], [2, 10, 14], [13, 1, 16], [18, 9, 0], [3, 5, 11], [0, 18, 9], [21, 6, 24], [3, 1, 25], [14, 12, 5], [12, 19, 16], [3, 5, 11], [18, 0, 9], [3, 5, 0], [16, 8, 19], [11, 18, 9], [3, 0, 11], [8, 17, 0], [10, 18, 9], [3, 5, 11], [15, 22, 15], [3, 14, 19], [6, 14, 5], [1, 22, 21], [10, 0, 18], [9, 3, 9], [2, 9, 1], [12, 6, 19], [9, 3, 5], [16, 2, 14], [2, 16, 0], [0, 18, 11], [3, 9, 7], [8, 16, 6], [4, 14, 17], [6, 20, 15], [3, 20, 6], [23, 8, 22], [17, 24, 22], [5, 0, 18], [3, 13, 21], [10, 7, 22], [3, 10, 11], [18, 25, 8], [10, 0, 24], [5, 7, 0], [16, 10, 2], [21, 11, 20], [13, 4, 14], [2, 14, 11], [3, 5, 7], [4, 8, 14], [3, 9, 21], [18, 5, 2], [22, 9, 22], [20, 16, 7], [0, 14, 22], [2, 11, 10], [15, 1, 21], [22, 25, 14], [22, 4, 24], [17, 12, 4], [6, 16, 22], [22, 19, 1], [14, 24, 0], [4, 8, 20], [21, 16, 5], [5, 7, 22], [8, 4, 5], [20, 13, 14], [22, 7, 25], [11, 18, 0], [0, 14, 3], [15, 15, 9], [3, 5, 11], [18, 9, 2], [10, 9, 0], [16, 8, 22], [10, 0, 13], [0, 5, 23], [9, 5, 9], [5, 4, 14], [18, 3, 7], [15, 19, 14], [5, 11, 0], [18, 9, 3], [5, 11, 9], [1, 3, 13], [1, 3, 9], [5, 7, 0], [21, 3, 4], [3, 8, 5], [10, 7, 1], [0, 19, 2], [1, 6, 5], [8, 16, 8], [0, 18, 3], [4, 8, 17], [23, 23, 2], [22, 22, 17], [7, 13, 23], [11, 10, 5], [9, 0, 3], [11, 10, 5], [9, 0, 18], [3, 5, 0], [18, 7, 5], [3, 0, 20], [2, 10, 19], [8, 4, 7], [16, 14, 10], [21, 9, 3], [5, 15, 16], [19, 1, 18], [8, 22, 4], [15, 9, 14], [7, 5, 16], [8, 20, 17], [7, 5, 16], [20, 14, 24], [6, 17, 16], [2, 15, 24], [16, 13, 23], [18, 3, 1], [20, 14, 8], [18, 20, 9], [23, 12, 21], [17, 7, 16], [25, 17, 20], [20, 24, 17], [23, 10, 23], [6, 16, 17], [20, 7, 6], [21, 2, 9], [7, 21, 4], [8, 20, 6], [24, 7, 8], [0, 16, 5], [0, 3, 12], [24, 25, 6], [25, 20, 0], [9, 4, 3], [1, 6, 1], [1, 3, 20], [8, 5, 7], [0, 11, 10], [16, 13, 3], [17, 24, 22], [21, 19, 18], [7, 18, 14], [3, 9, 5], [0, 18, 11], [24, 2, 12], [3, 9, 9], [20, 15, 4], [18, 22, 2], [4, 16, 1], [22, 25, 24], [17, 10, 17], [2, 1, 0], [12, 1, 14], [19, 20, 14], [18, 3, 8], [5, 8, 20], [18, 17, 6], [16, 7, 4], [22, 20, 14], [16, 6, 24], [6, 1, 6], [16, 1, 18], [5, 9, 24], [22, 12, 1], [17, 5, 20], [24, 17, 6], [24, 1, 8], [20, 19, 4], [17, 9, 23], [20, 16, 4], [23, 7, 20], [24, 17, 6], [20, 7, 17], [5, 11, 18], [0, 10, 11], [5, 9, 0], [0, 3, 11], [18, 7, 3], [11, 10, 5], [22, 10, 8], [9, 7, 0], [18, 3, 11], [0, 22, 5], [10, 5, 9], [20, 0, 9], [14, 1, 25], [0, 18, 11], [3, 10, 9], [0, 19, 12], [14, 24, 15], [13, 0, 1], [5, 0, 18], [12, 16, 18], [11, 3, 10], [0, 1, 12], [9, 5, 4], [8, 20, 0], [4, 21, 2], [7, 8, 22], [20, 4, 5], [0, 22, 4], [4, 1, 6], [2, 15, 0], [19, 0, 16], [5, 14, 16], [2, 10, 16], [11, 3, 13], [6, 24, 16], [1, 16, 1], [7, 23, 16], [17, 8, 20], [2, 10, 24], [14, 24, 22], [7, 16, 4], [17, 8, 5], [8, 16, 3], [8, 5, 11], [4, 20, 0], [7, 11, 3], [5, 7, 0], [18, 3, 9], [18, 0, 10], [5, 20, 14], [19, 2, 0], [14, 20, 24], [9, 13, 18], [4, 25, 25], [11, 16, 13], [20, 25, 1], [9, 8, 0], [0, 10, 9], [3, 5, 13], [21, 5, 13], [17, 23, 14], [19, 10, 14], [12, 9, 9], [20, 16, 24], [24, 17, 12], [13, 4, 14], [18, 3, 18], [1, 25, 9], [0, 11, 9], [7, 13, 5], [3, 13, 0], [9, 23, 21], [5, 8, 14], [20, 9, 18], [18, 9, 3], [24, 13, 22], [2, 20, 1], [16, 16, 16], [13, 0, 9], [1, 10, 13], [3, 10, 5], [14, 25, 5], [13, 0, 3], [0, 3, 12], [2, 0, 18], [3, 5, 8], [18, 5, 7], [0, 18, 8], [11, 20, 3], [5, 7, 0], [23, 23, 22], [22, 22, 16], [10, 3, 11], [14, 14, 0], [22, 12, 10], [15, 22, 6], [5, 7, 8], [16, 4, 16], [20, 14, 24], [5, 12, 15], [13, 22, 5], [6, 5, 20], [4, 24, 17], [4, 14, 5], [6, 8, 20], [7, 0, 3], [8, 5, 20], [0, 7, 18], [16, 4, 3], [0, 4, 24], [3, 11, 8], [3, 16, 7], [15, 7, 0], [12, 11, 5], [7, 3, 9], [3, 8, 20], [7, 8, 15], [17, 20, 7], [6, 14, 24], [6, 8, 20], [7, 6, 8], [20, 0, 4], [0, 20, 8], [20, 24, 21], [16, 4, 14], [18, 3, 24], [20, 5, 6], [4, 7, 2], [0, 20, 8], [23, 3, 21], [0, 10, 0], [16, 4, 8], [25, 4, 2], [20, 16, 17], [0, 21, 19], [17, 12, 11], [9, 10, 5], [6, 24, 16], [12, 5, 9], [4, 17, 6], [13, 24, 16], [7, 9, 3], [15, 5, 3], [0, 9, 1], [8, 1, 10], [5, 12, 13], [6, 19, 25], [0, 3, 9], [13, 10, 3], [22, 23, 25], [5, 0, 10], [18, 9, 5], [16, 25, 21], [7, 3, 0], [18, 9, 3], [7, 18, 0], [8, 3, 5], [11, 7, 0], [18, 11, 3], [11, 20, 17], [6, 9, 13], [14, 2, 0], [5, 9, 7], [0, 18, 11], [10, 3, 5], [9, 0, 7], [22, 15, 17], [18, 3, 9], [21, 15, 9], [5, 16, 4], [6, 25, 24], [8, 14, 11], [20, 13, 2], [14, 8, 16], [0, 6, 3], [7, 22, 4], [5, 8, 24], [6, 4, 20], [25, 24, 6], [25, 21, 12], [18, 12, 19], [23, 7, 15], [10, 25, 6], [5, 24, 7], [23, 14, 18], [9, 3, 18], [0, 18, 3], [7, 4, 12], [22, 19, 16], [2, 0, 6], [8, 20, 5], [5, 18, 16], [7, 0, 11], [6, 18, 21], [16, 16, 9], [5, 3, 0], [20, 8, 25], [3, 5, 10], [21, 0, 3], [12, 15, 24], [9, 0, 10], [22, 2, 23], [11, 3, 9], [9, 21, 0], [3, 2, 3], [5, 0, 18], [3, 11, 10], [5, 9, 0], [11, 0, 9], [18, 10, 11], [17, 21, 5], [2, 23, 23], [3, 9, 0], [3, 8, 13], [10, 11, 3], [7, 3, 10], [21, 0, 9], [3, 0, 10], [18, 9, 3], [5, 3, 10], [0, 16, 15], [0, 18, 10], [9, 5, 3], [0, 10, 18], [12, 7, 14], [9, 5, 7], [11, 19, 4], [0, 18, 8], [1, 5, 20], [5, 3, 0], [14, 15, 8], [3, 4, 23], [5, 0, 14], [15, 5, 8], [0, 9, 15], [25, 0, 14], [9, 18, 3], [14, 5, 8], [20, 15, 22], [9, 17, 5], [9, 0, 18], [14, 15, 5], [16, 13, 9], [20, 7, 0], [8, 5, 15], [20, 7, 0], [6, 5, 11], [16, 24, 3], [8, 4, 20], [5, 7, 0], [20, 12, 18], [8, 12, 3], [22, 8, 4], [25, 22, 24], [17, 24, 0], [5, 20, 7], [0, 8, 4], [3, 2, 23], [9, 19, 19], [5, 7, 20], [13, 13, 8], [0, 22, 8], [4, 20, 7], [6, 19, 23], [10, 0, 4], [3, 10, 17], [4, 13, 15], [0, 7, 19], [22, 0, 15], [4, 20, 7], [14, 8, 4], [8, 15, 22], [4, 20, 7], [16, 8, 4], [16, 14, 16], [0, 16, 9], [24, 7, 5], [14, 20, 24], [4, 6, 5], [7, 22, 13], [0, 7, 4], [16, 23, 23], [23, 2, 17], [3, 5, 0], [8, 18, 20], [3, 6, 15], [5, 16, 23], [3, 7, 5], [21, 8, 18], [4, 16, 12], [13, 24, 11], [0, 18, 9], [9, 11, 0], [0, 20, 6], [25, 0, 19], [2, 15, 1], [3, 7, 0], [3, 17, 2], [11, 18, 9], [10, 21, 1], [17, 16, 5], [3, 6, 10], [21, 25, 0], [8, 11, 8], [25, 15, 0], [24, 0, 19], [3, 9, 7], [13, 12, 23], [4, 21, 18], [1, 8, 23], [7, 1, 21], [2, 1, 2], [1, 13, 14], [9, 7, 21], [18, 4, 6], [20, 24, 17], [6, 20, 24], [25, 9, 4], [20, 5, 11], [11, 11, 9], [14, 3, 5], [6, 17, 7], [14, 8, 17], [20, 6, 0], [2, 4, 8], [14, 20, 5], [16, 14, 21], [1, 10, 17], [6, 0, 20], [2, 2, 14], [5, 16, 18], [7, 13, 11], [10, 18, 25], [1, 2, 6], [9, 10, 22], [12, 2, 4], [11, 1, 18], [3, 5, 7], [1, 16, 16], [0, 18, 3], [5, 0, 10], [18, 9, 3], [0, 9, 18], [3, 0, 18], [10, 3, 9], [23, 17, 3], [0, 3, 9], [5, 7, 0], [18, 11, 5], [9, 1, 3], [3, 3, 15], [18, 9, 14], [9, 5, 13], [0, 12, 13], [18, 0, 3], [7, 5, 0], [11, 3, 5], [7, 0, 18], [3, 9, 5], [10, 13, 4], [10, 2, 16], [18, 5, 7], [8, 7, 22], [4, 8, 14], [20, 5, 7], [9, 23, 7], [6, 19, 9], [22, 8, 4], [20, 5, 7], [10, 6, 14], [8, 22, 4], [15, 6, 5], [20, 5, 7], [22, 8, 4], [20, 5, 7], [19, 8, 14], [0, 20, 18], [7, 5, 3], [4, 20, 22], [0, 18, 10], [9, 3, 5], [9, 23, 20], [9, 15, 12], [14, 23, 14], [7, 0, 18], [24, 22, 5], [11, 10, 3], [1, 20, 5], [9, 7, 5], [0, 11, 10], [24, 14, 3], [17, 8, 6], [14, 3, 0], [22, 0, 4], [18, 3, 9], [7, 5, 0], [18, 10, 3], [5, 17, 8], [13, 9, 3], [22, 25, 4], [9, 5, 7], [0, 11, 10], [2, 13, 21], [10, 0, 23], [7, 21, 17], [10, 7, 20], [12, 13, 2], [4, 23, 17], [11, 11, 22], [6, 22, 11], [17, 12, 16], [3, 9, 7], [0, 3, 5], [3, 23, 9], [9, 7, 4], [3, 0, 13], [22, 14, 4], [8, 6, 20], [7, 16, 17], [25, 23, 6], [20, 6, 24], [18, 10, 1], [16, 4, 7], [21, 10, 19], [17, 8, 5], [6, 2, 20], [0, 4, 15], [13, 25, 9], [14, 3, 8], [7, 21, 14], [5, 0, 3], [2, 22, 8], [0, 4, 6], [5, 0, 7], [10, 7, 21], [6, 1, 11], [14, 15, 8], [18, 3, 8], [10, 13, 12], [18, 8, 23], [5, 20, 0], [9, 18, 13], [8, 6, 0], [10, 21, 23], [12, 3, 23], [13, 1, 2], [9, 1, 0], [8, 4, 20], [5, 0, 14], [5, 9, 3], [4, 8, 5], [4, 11, 8], [19, 18, 8], [11, 1, 1], [0, 14, 15], [16, 7, 13], [4, 5, 22], [17, 3, 23], [14, 5, 7], [15, 8, 20], [4, 5, 7], [19, 0, 14], [0, 8, 20], [21, 10, 16], [3, 7, 9], [11, 1, 25], [24, 19, 2], [10, 9, 3], [21, 5, 10], [10, 18, 15], [0, 21, 9], [8, 19, 22], [22, 11, 18], [19, 3, 19], [13, 0, 18], [10, 11, 3], [16, 12, 16], [22, 0, 17], [8, 15, 25], [9, 5, 0], [11, 10, 9], [3, 5, 0], [20, 15, 8], [7, 16, 14], [8, 4, 7], [16, 17, 24], [6, 8, 0], [20, 7, 5], [14, 5, 10], [20, 10, 12], [0, 18, 9], [3, 5, 7], [0, 18, 11], [10, 9, 3], [5, 7, 0], [18, 10, 9], [0, 2, 22], [11, 3, 5], [11, 0, 10], [18, 9, 3], [7, 5, 21], [9, 2, 1], [21, 13, 23], [16, 3, 6], [6, 12, 2], [21, 0, 3], [12, 9, 2], [10, 9, 5], [20, 5, 23], [7, 0, 3], [20, 0, 19], [9, 5, 7], [0, 3, 5], [10, 11, 9], [3, 3, 8], [0, 18, 7], [3, 5, 11], [5, 9, 20], [8, 10, 10], [10, 9, 0], [3, 12, 16], [21, 25, 18], [20, 7, 6], [18, 3, 7], [5, 0, 0], [18, 24, 25], [2, 10, 15], [15, 7, 5], [22, 4, 8], [20, 24, 16], [5, 20, 22], [0, 7, 4], [5, 15, 16], [6, 8, 15], [20, 16, 7], [6, 8, 20], [5, 8, 0], [18, 3, 5], [0, 18, 10], [11, 9, 3], [9, 18, 16], [5, 7, 18], [0, 10, 9], [10, 9, 12], [24, 21, 9], [12, 4, 20], [3, 2, 10], [7, 20, 4], [3, 5, 0], [24, 8, 16], [18, 9, 3], [21, 3, 9], [4, 7, 1], [10, 5, 0], [10, 9, 18], [14, 0, 3], [15, 22, 0], [3, 5, 0], [1, 18, 12], [13, 19, 22], [18, 3, 5], [25, 10, 10], [3, 8, 12], [9, 0, 18], [3, 5, 0], [18, 3, 5], [10, 9, 7], [19, 4, 21], [0, 18, 3], [5, 7, 0], [18, 3, 10], [21, 21, 23], [13, 19, 21], [5, 9, 0], [0, 8, 20], [18, 3, 5], [11, 23, 0], [3, 21, 19], [10, 9, 18], [0, 3, 5], [11, 25, 17], [21, 5, 7], [0, 18, 3], [0, 4, 1], [2, 13, 25], [5, 14, 8], [16, 15, 5], [20, 16, 4], [8, 10, 2], [8, 20, 5], [7, 16, 22], [0, 16, 9], [8, 4, 20], [5, 22, 4], [23, 2, 21], [8, 5, 0], [10, 9, 0], [3, 10, 5], [20, 6, 13], [9, 0, 18], [3, 10, 11], [5, 9, 0], [18, 3, 11], [5, 10, 7], [7, 22, 9], [13, 7, 22], [0, 18, 3], [17, 14, 19], [5, 7, 0], [18, 3, 11], [10, 5, 9], [0, 18, 3], [11, 9, 7], [5, 0, 5], [17, 24, 16], [8, 10, 12], [0, 8, 18], [20, 3, 7], [5, 0, 10], [11, 18, 9], [3, 5, 10], [11, 0, 18], [9, 3, 5], [11, 10, 0], [18, 9, 3], [13, 0, 10], [18, 9, 3], [10, 0, 18], [9, 3, 5], [24, 5, 7], [11, 5, 19], [17, 18, 3], [7, 19, 5], [10, 6, 17], [0, 18, 8], [20, 5, 7], [7, 6, 24], [22, 10, 12], [0, 18, 3], [9, 5, 7], [21, 13, 3], [0, 18, 10], [5, 11, 18], [18, 11, 4], [13, 20, 13], [11, 3, 9], [5, 7, 0], [9, 24, 1], [20, 14, 1], [3, 2, 6], [10, 3, 9], [5, 0, 15], [20, 25, 15], [15, 3, 1], [1, 18, 13], [23, 6, 1], [5, 10, 14], [8, 4, 20], [9, 17, 17], [1, 23, 19], [5, 7, 0], [22, 8, 4], [9, 9, 7], [20, 5, 7], [22, 16, 8], [20, 14, 17], [16, 3, 22], [4, 20, 5], [15, 24, 14], [7, 16, 22], [4, 8, 20], [13, 25, 17], [20, 11, 4], [5, 7, 8], [20, 18, 0], [7, 5, 11], [17, 0, 20], [12, 18, 1], [3, 18, 4], [0, 9, 18], [3, 7, 5], [9, 0, 18], [7, 3, 5], [13, 8, 18], [10, 11, 0], [13, 11, 4], [18, 9, 3], [6, 21, 12], [7, 5, 10], [0, 9, 18], [11, 19, 15], [24, 15, 12], [3, 7, 5], [10, 0, 9], [5, 13, 4], [18, 3, 7], [8, 18, 24], [5, 15, 4], [12, 2, 22], [7, 5, 16], [15, 19, 25], [4, 8, 5], [23, 25, 11], [8, 22, 4], [20, 5, 7], [8, 18, 20], [13, 21, 10], [16, 5, 10], [16, 7, 9], [8, 13, 15], [4, 4, 14], [21, 18, 19], [0, 18, 13], [3, 0, 9], [9, 25, 2], [18, 3, 5], [0, 9, 18], [3, 5, 10], [17, 3, 25], [18, 9, 3], [7, 5, 0], [14, 15, 3], [22, 20, 4], [3, 20, 9], [2, 25, 7], [10, 18, 3], [16, 10, 0], [9, 5, 0], [5, 20, 2], [12, 1, 20], [10, 11, 18], [9, 3, 5], [7, 0, 18], [3, 14, 8], [5, 18, 15], [8, 3, 20], [25, 11, 22], [22, 5, 14], [7, 21, 3], [17, 5, 22], [8, 20, 7], [11, 11, 11], [5, 20, 14], [0, 8, 20], [14, 2, 9], [3, 7, 5], [0, 18, 10], [11, 3, 9], [5, 0, 18], [24, 21, 9], [19, 23, 21], [11, 10, 3], [20, 18, 15], [9, 5, 7], [24, 8, 6], [3, 24, 0], [0, 17, 15], [22, 2, 12], [19, 2, 0], [0, 18, 10], [11, 3, 9], [5, 0, 18], [11, 10, 3], [20, 7, 3], [9, 5, 0], [25, 8, 20], [9, 25, 0], [0, 24, 20], [22, 16, 12], [16, 10, 14], [5, 25, 9], [3, 12, 2], [2, 6, 10], [18, 3, 10], [9, 5, 0], [18, 11, 10], [22, 4, 6], [11, 4, 11], [7, 12, 16], [3, 9, 5], [7, 0, 18], [2, 10, 3], [11, 3, 10], [22, 25, 17], [25, 25, 13], [5, 7, 0], [22, 15, 4], [7, 16, 22], [8, 4, 20], [22, 20, 24], [16, 12, 5], [5, 7, 22], [18, 4, 14], [24, 2, 18], [8, 4, 5], [20, 0, 8], [3, 5, 7], [0, 18, 11], [8, 21, 25], [20, 25, 11], [24, 16, 14], [19, 8, 8], [24, 25, 15], [22, 6, 1], [5, 9, 7], [16, 25, 10], [4, 13, 12], [3, 5, 7], [0, 18, 10], [3, 9, 5], [7, 0, 18], [10, 11, 3], [21, 18, 23], [9, 5, 7], [0, 18, 11], [4, 23, 0], [8, 17, 18], [10, 3, 9], [14, 5, 19], [5, 7, 0], [18, 11, 10], [3, 9, 0], [24, 11, 11], [12, 25, 2], [3, 9, 1], [14, 2, 0], [0, 11, 10], [19, 16, 24], [10, 2, 19], [5, 5, 8], [15, 8, 10], [14, 20, 7], [3, 9, 5], [2, 8, 23], [5, 11, 15], [5, 21, 0], [7, 0, 11], [5, 10, 0], [18, 7, 3], [8, 9, 21], [25, 17, 7], [17, 25, 6], [5, 10, 9], [0, 18, 7], [3, 5, 14], [25, 9, 4], [7, 4, 5], [19, 19, 8], [11, 3, 0], [22, 9, 15], [15, 14, 16], [24, 24, 4], [4, 13, 22], [7, 4, 8], [15, 20, 16], [7, 4, 5], [12, 11, 4], [8, 16, 20], [21, 20, 19], [4, 7, 5], [14, 5, 10], [8, 7, 20], [0, 3, 5], [0, 8, 18], [20, 21, 2], [3, 7, 5], [10, 11, 0], [12, 12, 4], [18, 9, 3], [5, 7, 11], [0, 12, 19], [20, 0, 4], [18, 3, 5], [7, 10, 22], [1, 20, 11], [8, 5, 20], [18, 13, 9], [20, 13, 0], [8, 19, 9], [12, 17, 15], [2, 24, 16], [7, 8, 7], [0, 15, 25], [3, 0, 18], [20, 2, 7], [23, 4, 1], [9, 3, 5], [0, 18, 3], [10, 9, 5], [0, 18, 11], [10, 9, 3], [10, 15, 12], [0, 23, 21], [11, 10, 0], [0, 25, 10], [23, 22, 25], [18, 8, 20], [18, 13, 5], [10, 9, 4], [12, 15, 17], [8, 22, 4], [15, 5, 14], [8, 16, 22], [8, 4, 5], [20, 7, 8], [25, 13, 0], [25, 8, 4], [1, 10, 19], [4, 20, 5], [7, 8, 6], [14, 24, 16], [4, 17, 6], [8, 4, 5], [7, 0, 18], [3, 9, 5], [8, 4, 3], [22, 15, 7], [9, 1, 6], [20, 18, 6], [0, 18, 10], [11, 9, 3], [5, 0, 18], [5, 5, 22], [1, 3, 15], [10, 3, 9], [1, 9, 1], [3, 0, 5], [10, 3, 9], [7, 0, 18], [10, 9, 11], [24, 12, 20], [5, 18, 0], [7, 3, 5], [18, 4, 10], [15, 19, 24], [20, 6, 0], [3, 5, 24], [2, 5, 17], [24, 3, 16], [11, 17, 16], [17, 23, 16], [14, 6, 0], [25, 0, 24], [3, 5, 0], [18, 20, 3], [8, 5, 20], [21, 11, 24], [21, 24, 3], [0, 3, 8], [5, 10, 14], [5, 7, 0], [18, 3, 5], [20, 21, 5], [21, 20, 25], [20, 7, 14], [5, 9, 13], [21, 8, 25], [9, 7, 0], [18, 3, 10], [4, 2, 20], [22, 8, 10], [5, 9, 0], [7, 18, 3], [18, 4, 16], [11, 10, 5], [9, 0, 18], [3, 12, 21], [23, 12, 21], [8, 20, 23], [9, 0, 3], [16, 21, 13], [13, 25, 10], [5, 7, 0], [18, 3, 7], [5, 0, 10], [21, 5, 21], [11, 9, 3], [18, 13, 11], [21, 19, 16], [7, 5, 0], [4, 15, 11], [11, 10, 18], [15, 2, 21], [9, 22, 17], [9, 3, 5], [15, 10, 10], [24, 15, 25], [20, 19, 25], [14, 13, 3], [7, 0, 11], [9, 10, 4], [17, 16, 20], [14, 16, 16], [14, 4, 24], [8, 15, 20], [16, 15, 18], [23, 7, 6], [10, 18, 9], [21, 12, 24], [3, 5, 7], [0, 10, 18], [3, 9, 5], [5, 7, 24], [15, 0, 14], [7, 0, 10], [12, 17, 9], [3, 9, 5], [0, 7, 18], [3, 5, 15], [1, 20, 20], [0, 7, 3], [8, 5, 20], [22, 16, 18], [7, 0, 18], [3, 5, 24], [0, 18, 3], [5, 8, 20], [0, 18, 7], [3, 5, 11], [10, 24, 22], [6, 10, 0], [20, 19, 1], [11, 14, 19], [9, 0, 18], [0, 19, 23], [7, 3, 5], [21, 2, 18], [18, 9, 17], [11, 10, 9], [0, 7, 3], [24, 13, 7], [17, 10, 11], [23, 7, 13], [17, 4, 11], [5, 11, 10], [0, 9, 18], [3, 7, 5], [2, 18, 15], [10, 0, 9], [3, 12, 14], [4, 7, 5], [21, 14, 1], [13, 0, 8], [22, 14, 21], [22, 4, 20], [5, 7, 22], [0, 4, 24], [9, 19, 6], [3, 10, 2], [7, 21, 25], [13, 15, 19], [10, 7, 11], [10, 22, 1], [0, 2, 2], [6, 5, 0], [4, 8, 20], [25, 15, 10], [1, 18, 16], [22, 21, 8], [5, 7, 0], [17, 16, 23], [3, 23, 6], [20, 5, 15], [8, 4, 20], [5, 7, 0], [22, 24, 23], [20, 3, 24], [5, 7, 0], [18, 8, 3], [21, 9, 25], [5, 0, 18], [23, 19, 12], [16, 16, 23], [3, 9, 5], [13, 7, 5], [7, 0, 11], [18, 10, 3], [9, 5, 7], [0, 18, 11], [9, 3, 5], [7, 11, 0], [18, 9, 3], [15, 18, 25], [1, 21, 4], [8, 20, 7], [3, 20, 9], [10, 2, 9], [3, 11, 5], [20, 21, 4], [7, 13, 13], [7, 0, 3], [20, 21, 2], [8, 18, 21], [5, 9, 0], [18, 3, 9], [5, 14, 0], [18, 3, 9], [19, 1, 3], [5, 11, 18], [0, 10, 3], [4, 23, 16], [10, 0, 18], [3, 10, 0], [5, 0, 6], [24, 8, 10], [3, 0, 18], [14, 22, 15], [9, 3, 5], [8, 18, 1], [13, 3, 23], [24, 2, 17], [0, 9, 3], [22, 16, 5], [15, 16, 18], [7, 20, 2], [5, 9, 0], [3, 10, 5], [5, 21, 4], [9, 0, 18], [17, 24, 10], [11, 14, 23], [18, 25, 6], [14, 3, 9], [24, 11, 17], [12, 24, 9], [20, 22, 1], [5, 18, 0], [3, 15, 5], [8, 0, 18], [15, 3, 5], [0, 18, 3], [2, 4, 14], [6, 5, 12], [15, 5, 8], [7, 24, 19], [20, 0, 18], [15, 7, 23], [3, 14, 5], [18, 9, 20], [15, 8, 0], [22, 13, 10], [18, 9, 3], [14, 5, 8], [21, 17, 5], [9, 0, 18], [12, 16, 19], [3, 5, 14], [15, 0, 8], [19, 7, 6], [9, 3, 5], [14, 0, 18], [8, 3, 9], [5, 0, 18], [9, 23, 12], [16, 24, 4], [3, 5, 9], [0, 18, 11], [11, 7, 11], [1, 2, 0], [3, 5, 10], [0, 20, 18], [9, 0, 18], [11, 3, 10], [5, 9, 0], [18, 11, 3], [17, 12, 19], [14, 9, 15], [20, 6, 9], [2, 13, 25], [10, 5, 0], [0, 13, 16], [9, 18, 3], [5, 9, 7], [22, 9, 3], [10, 12, 0], [11, 5, 2], [3, 25, 19], [10, 12, 0], [3, 10, 9], [11, 3, 10], [5, 9, 0], [23, 18, 8], [7, 13, 14], [3, 5, 10], [9, 15, 8], [8, 4, 5], [14, 8, 0], [19, 5, 21], [14, 0, 15], [24, 19, 22], [22, 21, 8], [18, 3, 5], [7, 8, 0], [20, 3, 5], [7, 0, 3], [8, 11, 16], [10, 4, 21], [5, 24, 0], [8, 3, 12], [5, 12, 11], [15, 14, 12], [7, 3, 5], [8, 0, 9], [22, 3, 22], [3, 5, 0], [9, 3, 10], [11, 0, 9], [0, 16, 4], [3, 10, 5], [9, 0, 3], [17, 12, 19], [7, 5, 11], [10, 0, 9], [3, 5, 10], [11, 3, 22], [6, 10, 22], [11, 9, 0], [25, 9, 25], [3, 12, 10], [15, 14, 7], [3, 5, 10], [11, 1, 21], [13, 12, 12], [11, 0, 9], [24, 7, 17], [3, 5, 10], [13, 1, 4], [0, 9, 3], [9, 19, 25], [6, 5, 12], [5, 18, 0], [3, 9, 5], [0, 1, 15], [7, 0, 18], [10, 3, 9], [11, 5, 0], [1, 4, 13], [1, 13, 0], [10, 3, 9], [10, 12, 9], [11, 5, 0], [13, 5, 18], [18, 3, 10], [5, 9, 0], [18, 10, 3], [5, 7, 0], [7, 18, 8], [18, 10, 11], [9, 3, 5], [12, 8, 9], [4, 24, 7], [3, 20, 0], [3, 14, 8], [5, 20, 14], [0, 3, 8], [20, 5, 9], [8, 14, 18], [9, 1, 9], [3, 0, 9], [1, 7, 0], [6, 16, 25], [8, 20, 1], [24, 9, 10], [7, 0, 3], [8, 20, 5], [0, 18, 20], [3, 5, 24], [8, 2, 0], [16, 7, 14], [24, 5, 16], [9, 15, 22], [4, 24, 5], [18, 17, 21], [16, 4, 24], [5, 8, 20], [0, 7, 18], [3, 20, 5], [8, 7, 0], [18, 3, 8], [16, 24, 15], [20, 5, 7], [20, 24, 17], [21, 4, 6], [20, 24, 4], [22, 17, 20], [24, 7, 17], [18, 17, 8], [13, 24, 16], [14, 11, 16], [19, 15, 12], [5, 8, 20], [0, 3, 8], [14, 5, 20], [7, 3, 18], [24, 22, 6], [8, 14, 5], [7, 0, 3], [9, 5, 7], [0, 3, 8], [5, 7, 0], [7, 25, 0], [16, 8, 18], [3, 8, 5], [9, 7, 0], [3, 8, 5], [21, 4, 1], [25, 25, 11], [7, 0, 3], [8, 0, 1], [15, 1, 7], [0, 3, 7], [21, 20, 17], [0, 18, 8], [6, 13, 25], [11, 18, 14], [15, 9, 9], [7, 5, 9], [21, 7, 12], [3, 5, 0], [18, 3, 8], [20, 5, 0], [18, 8, 3], [20, 5, 7], [0, 8, 3], [12, 22, 21], [20, 5, 7], [5, 10, 8], [13, 4, 9], [0, 8, 18], [3, 20, 5], [8, 20, 17], [10, 6, 1], [19, 16, 23], [7, 0, 8], [18, 16, 24], [18, 3, 20], [7, 5, 0], [8, 3, 20], [7, 5, 0], [20, 2, 2], [15, 17, 19], [24, 19, 10], [8, 14, 20], [3, 4, 14], [3, 5, 0], [11, 16, 21], [19, 16, 17], [8, 18, 20], [2, 18, 14], [5, 20, 19], [3, 5, 8], [25, 25, 1], [8, 3, 13], [2, 23, 24], [0, 18, 14], [7, 1, 12], [3, 19, 4], [3, 20, 5], [23, 5, 19], [13, 3, 6], [0, 18, 3], [25, 2, 25], [11, 3, 15], [7, 5, 0], [14, 3, 8], [17, 23, 12], [20, 5, 7], [10, 11, 2], [0, 3, 14], [21, 15, 18], [20, 5, 7], [0, 14, 3], [23, 19, 14], [22, 4, 20], [8, 20, 5], [7, 8, 14], [20, 7, 8], [14, 20, 7], [5, 2, 15], [15, 20, 8], [16, 8, 14], [3, 2, 24], [14, 17, 9], [20, 9, 5], [4, 20, 5], [7, 16, 22], [25, 19, 0], [21, 23, 18], [2, 7, 11], [8, 4, 14], [16, 23, 17], [8, 11, 8], [20, 5, 7], [8, 14, 20], [7, 18, 3], [8, 5, 20], [0, 18, 7], [3, 8, 1], [9, 0, 3], [5, 0, 3], [5, 9, 0], [18, 21, 1], [18, 3, 13], [5, 0, 18], [14, 8, 3], [13, 9, 12], [20, 7, 5], [23, 24, 11], [0, 3, 20], [5, 0, 3], [20, 7, 5], [0, 14, 3], [21, 23, 4], [24, 5, 0], [7, 1, 11], [4, 17, 24], [10, 16, 6], [25, 11, 7], [20, 8, 2], [3, 3, 8], [6, 4, 20], [24, 6, 7], [17, 14, 4], [14, 8, 6], [16, 8, 17], [6, 14, 16], [10, 15, 4], [22, 13, 18], [12, 8, 23], [20, 17, 24], [6, 7, 16], [8, 3, 14], [25, 10, 19], [16, 22, 25], [5, 9, 8], [3, 18, 5], [16, 6, 2], [18, 14, 15], [14, 0, 20], [7, 7, 23], [17, 1, 15], [3, 5, 0], [4, 16, 21], [18, 8, 3], [5, 0, 18], [6, 1, 23], [14, 7, 12], [19, 21, 22], [3, 25, 14], [20, 23, 21], [6, 15, 4], [3, 8, 5], [7, 0, 14], [11, 16, 17], [3, 18, 20], [12, 20, 25], [5, 7, 0], [6, 11, 11], [18, 8, 14], [14, 23, 12], [3, 20, 5], [0, 7, 18], [24, 5, 18], [14, 2, 25], [3, 14, 24], [5, 0, 18], [3, 20, 5], [7, 0, 18], [8, 3, 14], [20, 5, 0], [1, 11, 19], [8, 5, 25], [3, 5, 12], [20, 16, 1], [25, 10, 9], [13, 23, 4], [21, 22, 5], [18, 3, 9], [1, 7, 8], [1, 0, 5], [20, 1, 13], [9, 0, 3], [8, 5, 0], [18, 3, 8], [5, 0, 18], [11, 21, 17], [16, 15, 6], [23, 18, 6], [3, 8, 5], [20, 0, 7], [17, 2, 24], [3, 5, 8], [14, 20, 0], [7, 18, 3], [5, 5, 3], [18, 18, 0], [15, 1, 20], [11, 10, 5], [11, 13, 1], [9, 0, 18], [3, 5, 0], [11, 13, 7], [18, 10, 3], [7, 5, 10], [18, 0, 3], [24, 9, 24], [5, 10, 18], [7, 1, 13], [3, 5, 7], [12, 14, 20], [10, 25, 1], [10, 0, 18], [21, 19, 7], [9, 3, 5], [10, 22, 4], [18, 24, 22], [21, 20, 4], [5, 14, 22], [4, 14, 5], [17, 5, 2], [20, 22, 4], [11, 5, 16], [13, 18, 24], [8, 4, 5], [20, 25, 12], [24, 16, 4], [19, 5, 16], [22, 4, 5], [16, 22, 4], [5, 16, 22], [12, 8, 20], [23, 11, 24], [20, 2, 0], [24, 9, 23], [5, 3, 10], [23, 2, 10], [24, 21, 19], [5, 7, 18], [3, 7, 5], [0, 18, 3], [5, 18, 5], [10, 0, 18], [17, 18, 9], [13, 13, 6], [7, 3, 10], [5, 20, 7], [3, 13, 15], [0, 18, 3], [5, 14, 25], [24, 25, 12], [23, 4, 16], [11, 8, 5], [0, 15, 22], [18, 11, 8], [4, 23, 8], [15, 8, 25], [18, 7, 20], [3, 21, 19], [7, 23, 4], [19, 10, 5], [5, 14, 7], [16, 8, 4], [5, 23, 19], [16, 4, 11], [9, 14, 8], [22, 0, 13], [0, 7, 21], [3, 9, 17], [21, 5, 1], [11, 8, 15], [9, 22, 16], [7, 22, 25], [14, 15, 4], [9, 8, 23], [22, 16, 14], [8, 5, 8], [16, 20, 4], [7, 5, 8], [13, 2, 12], [24, 7, 8], [5, 20, 0], [12, 5, 24], [18, 3, 10], [16, 23, 7], [9, 5, 3], [5, 13, 1], [3, 10, 9], [5, 0, 18], [5, 9, 0], [18, 10, 3], [9, 5, 0], [19, 8, 11], [22, 0, 1], [7, 18, 21], [18, 10, 3], [18, 19, 2], [15, 2, 15], [8, 7, 7], [7, 9, 19], [5, 9, 0], [17, 13, 9], [18, 10, 3], [5, 9, 4], [8, 12, 13], [5, 16, 22], [13, 25, 21], [4, 5, 11], [23, 6, 9], [22, 19, 24], [6, 13, 2], [7, 7, 22], [3, 5, 19], [14, 19, 0], [12, 11, 1], [2, 20, 4], [16, 22, 7], [4, 5, 11], [16, 22, 9], [6, 9, 11], [7, 4, 5], [19, 1, 16], [0, 5, 19], [8, 11, 7], [25, 0, 11], [18, 17, 20], [3, 18, 5], [10, 9, 0], [18, 7, 3], [2, 19, 24], [5, 11, 0], [0, 9, 9], [9, 18, 7], [3, 11, 9], [6, 10, 9], [17, 10, 25], [11, 0, 6], [3, 8, 10], [10, 11, 9], [12, 5, 19], [0, 3, 5], [25, 10, 3], [10, 0, 13], [23, 2, 8], [0, 0, 12], [5, 18, 23], [10, 11, 0], [2, 20, 18], [22, 3, 24], [9, 16, 1], [1, 4, 20], [2, 2, 18], [11, 6, 24], [9, 18, 3], [5, 11, 10], [9, 0, 18], [11, 23, 17], [3, 7, 5], [20, 23, 15], [10, 9, 18], [3, 13, 9], [10, 13, 0], [16, 0, 0], [21, 0, 14], [13, 0, 5], [10, 0, 10], [16, 15, 18], [9, 13, 0], [3, 7, 10], [9, 13, 1], [11, 2, 23], [3, 9, 13], [0, 3, 12], [5, 20, 24], [7, 0, 7], [8, 9, 16], [13, 21, 0], [12, 21, 0], [24, 24, 25], [18, 20, 3], [7, 5, 0], [4, 0, 18], [1, 11, 17], [18, 11, 10], [3, 9, 7], [2, 18, 18], [3, 11, 24], [1, 14, 8], [10, 13, 20], [16, 5, 19], [18, 6, 14], [5, 0, 11], [12, 9, 24], [9, 3, 5], [6, 8, 16], [3, 10, 10], [7, 4, 6], [22, 12, 10], [8, 11, 16], [22, 7, 18], [4, 7, 17], [6, 24, 23], [6, 24, 16], [4, 17, 7], [15, 20, 23], [8, 6, 20], [22, 3, 13], [12, 8, 6], [4, 4, 3], [7, 4, 5], [11, 10, 0], [12, 23, 14], [7, 14, 9], [15, 2, 17], [7, 18, 3], [16, 10, 20], [23, 10, 20], [11, 10, 5], [20, 6, 24], [9, 18, 0], [7, 3, 11], [10, 7, 3], [18, 13, 17], [11, 17, 10], [6, 9, 4], [16, 24, 9], [13, 11, 15], [23, 8, 22], [8, 17, 7], [15, 0, 22], [6, 16, 4], [17, 8, 6], [16, 4, 24], [17, 6, 7], [8, 20, 7], [5, 11, 10], [15, 18, 23], [15, 8, 3], [18, 13, 23], [9, 0, 18], [14, 2, 17], [25, 14, 4], [3, 12, 17], [9, 11, 22], [7, 3, 5], [25, 0, 14], [11, 0, 7], [21, 24, 4], [18, 3, 5], [20, 23, 12], [0, 9, 10], [11, 18, 3], [21, 18, 20], [9, 5, 11], [8, 0, 9], [0, 18, 10], [11, 3, 6], [25, 10, 24], [22, 2, 6], [1, 13, 0], [11, 10, 18], [10, 9, 3], [5, 10, 0], [18, 9, 7], [24, 12, 17], [18, 21, 13], [21, 17, 7], [20, 3, 21], [12, 0, 4], [0, 14, 24], [14, 8, 14], [15, 25, 4], [3, 5, 0], [21, 14, 18], [8, 20, 7], [16, 14, 16], [5, 0, 22], [8, 14, 4], [1, 11, 3], [5, 20, 7], [10, 9, 13], [18, 10, 9], [13, 5, 0], [12, 0, 23], [10, 11, 9], [5, 11, 0], [10, 9, 4], [5, 10, 11], [11, 2, 24], [0, 9, 3], [13, 5, 10], [0, 9, 18], [1, 2, 25], [4, 23, 10], [3, 5, 10], [11, 18, 9], [19, 3, 12], [3, 9, 11], [0, 4, 11], [2, 15, 25], [10, 6, 9], [8, 6, 20], [7, 4, 16], [8, 17, 14], [25, 2, 3], [10, 9, 24], [2, 21, 18], [11, 14, 16], [18, 15, 13], [20, 16, 19], [20, 18, 0], [1, 17, 0], [7, 4, 20], [14, 17, 6], [17, 23, 8], [4, 1, 7], [24, 16, 4], [13, 7, 10], [8, 20, 5], [7, 8, 18], [24, 5, 23], [16, 10, 20], [3, 0, 7], [5, 11, 10], [0, 18, 9], [22, 7, 7], [3, 5, 10], [18, 9, 3], [11, 0, 18], [9, 13, 1], [10, 9, 0], [14, 21, 19], [13, 3, 11], [10, 0, 9], [9, 1, 5], [5, 3, 13], [18, 0, 10], [9, 3, 13], [18, 0, 10], [3, 9, 13], [0, 11, 10], [3, 9, 5], [2, 6, 9], [10, 12, 8], [19, 22, 20], [9, 1, 12], [17, 24, 23], [7, 0, 18], [5, 19, 21], [10, 11, 3], [11, 15, 10], [20, 4, 10], [9, 22, 22], [9, 5, 0], [18, 11, 10], [12, 20, 18], [3, 9, 5], [0, 4, 7], [23, 2, 18], [5, 0, 16], [7, 23, 22], [4, 15, 8], [9, 0, 20], [19, 18, 9], [21, 13, 6], [5, 9, 3], [6, 7, 16], [4, 8, 6], [7, 4, 17], [25, 25, 24], [24, 6, 20], [9, 6, 4], [22, 17, 24], [7, 0, 8], [3, 25, 25], [3, 20, 5], [5, 14, 9], [11, 16, 1], [20, 2, 9], [7, 0, 18], [8, 3, 5], [6, 12, 9], [0, 18, 8], [3, 20, 7], [5, 0, 11], [7, 1, 4], [18, 9, 3], [23, 22, 12], [5, 0, 18], [10, 11, 9], [3, 13, 11], [18, 16, 20], [15, 15, 2], [10, 0, 18], [9, 3, 6], [10, 11, 9], [13, 6, 10], [9, 1, 5], [0, 3, 9], [0, 3, 12], [8, 11, 3], [16, 5, 1], [11, 16, 14], [1, 13, 2], [13, 25, 24], [23, 10, 2], [6, 25, 24], [1, 9, 0], [7, 9, 2], [8, 5, 7], [25, 20, 22], [17, 3, 22], [9, 6, 13], [7, 23, 19], [0, 3, 5], [9, 0, 18], [3, 10, 11], [11, 20, 0], [5, 7, 9], [5, 12, 23], [15, 23, 10], [3, 10, 5], [24, 25, 17], [15, 16, 4], [21, 10, 23], [14, 16, 22], [14, 4, 17], [8, 22, 4], [13, 12, 15], [20, 5, 16], [17, 24, 16], [14, 7, 13], [8, 22, 4], [20, 15, 25], [20, 5, 7], [16, 8, 20], [22, 7, 4], [5, 8, 11], [20, 7, 22], [14, 2, 16], [20, 18, 11], [2, 16, 25], [8, 18, 24], [8, 5, 20], [7, 3, 5], [0, 7, 3], [5, 10, 9], [5, 11, 16], [19, 1, 14], [0, 18, 3], [7, 5, 10], [8, 1, 2], [9, 18, 0], [3, 5, 18], [15, 1, 9], [6, 13, 7], [0, 3, 5], [15, 0, 18], [25, 20, 18], [3, 15, 8], [23, 17, 16], [7, 19, 13], [5, 7, 0], [11, 4, 20], [18, 8, 3], [7, 2, 0], [20, 5, 7], [24, 25, 14], [13, 11, 4], [3, 6, 25], [0, 7, 24], [0, 18, 8], [1, 2, 15], [3, 11, 5], [25, 2, 11], [20, 7, 0], [1, 9, 2], [18, 8, 3], [20, 5, 7], [25, 17, 0], [0, 18, 11], [11, 8, 9], [8, 3, 5], [20, 7, 0], [13, 19, 15], [2, 21, 12], [13, 15, 3], [23, 8, 15], [2, 21, 19], [18, 8, 11], [7, 20, 9], [3, 5, 9], [7, 18, 11], [10, 7, 9], [4, 16, 8], [12, 14, 25], [6, 4, 17], [6, 7, 6], [17, 16, 15], [17, 7, 16], [8, 17, 20], [9, 11, 19], [7, 16, 6], [14, 24, 17], [6, 7, 16], [4, 20, 24], [6, 19, 7], [7, 16, 8], [6, 7, 10], [3, 9, 5], [7, 0, 18], [10, 3, 9], [19, 6, 14], [0, 11, 10], [8, 14, 9], [18, 17, 18], [6, 10, 7], [3, 9, 3], [5, 10, 9], [1, 3, 5], [11, 9, 5], [9, 21, 13], [5, 21, 3], [13, 21, 3], [8, 2, 18], [11, 5, 7], [23, 19, 6], [0, 3, 9], [8, 18, 10], [5, 7, 18], [10, 3, 9], [22, 10, 5], [5, 0, 10], [7, 0, 10], [18, 3, 9], [0, 12, 12], [11, 15, 7], [5, 0, 18], [6, 11, 19], [2, 24, 17], [3, 7, 5], [0, 18, 3], [7, 5, 22], [2, 12, 6], [14, 13, 10], [23, 0, 1], [11, 3, 13], [24, 6, 5], [19, 17, 4], [22, 25, 16], [8, 9, 5], [0, 7, 18], [6, 6, 9], [25, 2, 9], [10, 11, 3], [13, 7, 14], [5, 7, 10], [18, 3, 9], [5, 7, 0], [10, 11, 9], [1, 1, 19], [3, 7, 5], [0, 13, 6], [10, 0, 9], [18, 3, 5], [10, 0, 9], [1, 14, 10], [18, 7, 3], [5, 0, 10], [18, 9, 3], [23, 18, 7], [7, 5, 0], [11, 9, 5], [3, 16, 4], [5, 1, 15], [8, 16, 20], [22, 7, 4], [5, 16, 8], [4, 24, 7], [5, 8, 20], [7, 3, 5], [7, 0, 11], [14, 0, 4], [18, 10, 3], [23, 1, 13], [18, 4, 9], [9, 5, 18], [9, 2, 11], [11, 10, 9], [14, 1, 13], [3, 5, 0], [13, 22, 9], [20, 4, 7], [18, 10, 9], [7, 4, 2], [12, 2, 1], [1, 19, 24], [3, 7, 5], [25, 19, 25], [0, 18, 11], [14, 15, 17], [10, 9, 3], [5, 7, 0], [20, 3, 5], [18, 10, 11], [9, 3, 7], [5, 0, 18], [22, 21, 11], [11, 10, 9], [16, 2, 5], [3, 7, 5], [0, 18, 10], [11, 3, 9], [12, 23, 24], [8, 19, 3], [25, 6, 17], [1, 22, 24], [5, 7, 7], [17, 6, 7], [5, 7, 0], [18, 11, 10], [3, 9, 5], [17, 11, 21], [20, 12, 5], [7, 0, 3], [7, 8, 20], [7, 8, 1], [11, 10, 9], [1, 4, 24], [18, 8, 14], [0, 6, 5], [24, 12, 24], [5, 7, 0], [7, 9, 0], [3, 10, 9], [5, 7, 8], [7, 21, 18], [20, 7, 24], [6, 4, 17], [18, 5, 22], [20, 24, 6], [7, 0, 17], [12, 19, 14], [14, 10, 0], [16, 14, 4], [25, 19, 7], [4, 8, 2], [14, 12, 12], [25, 17, 18], [20, 7, 8], [4, 25, 0], [14, 18, 14], [8, 15, 25], [20, 4, 5], [8, 16, 20], [7, 4, 5], [17, 21, 9], [18, 12, 3], [18, 6, 8], [9, 7, 3], [5, 10, 9], [0, 7, 18], [12, 0, 0], [12, 16, 14], [2, 1, 24], [1, 5, 11], [5, 24, 9], [2, 25, 14], [3, 10, 5], [9, 7, 18], [20, 25, 8], [3, 19, 18], [20, 15, 20], [3, 5, 18], [0, 7, 6], [20, 4, 10], [11, 8, 14], [10, 1, 20], [24, 2, 4], [23, 16, 0], [11, 13, 16], [7, 5, 0], [3, 21, 1], [13, 23, 21], [25, 2, 17], [10, 7, 21], [3, 9, 20], [17, 10, 14], [1, 4, 12], [9, 3, 7], [12, 15, 2], [19, 12, 3], [5, 0, 3], [11, 19, 22], [15, 14, 25], [5, 7, 0], [16, 13, 7], [19, 12, 13], [10, 3, 9], [14, 1, 9], [5, 10, 9], [8, 25, 17], [3, 7, 5], [12, 4, 24], [18, 3, 7], [5, 16, 4], [25, 0, 13], [21, 12, 19], [1, 18, 20], [7, 20, 16], [23, 13, 5], [6, 12, 21], [22, 12, 13], [4, 16, 4], [19, 22, 14], [6, 24, 8], [20, 7, 16], [4, 7, 16], [4, 8, 14], [20, 7, 16], [11, 7, 12], [5, 8, 21], [22, 4, 8], [19, 7, 18], [7, 0, 19], [9, 13, 15], [20, 17, 7], [16, 8, 22], [20, 4, 17], [7, 16, 8], [8, 21, 21], [12, 0, 12], [22, 20, 4], [13, 7, 12], [17, 7, 16], [8, 20, 22], [7, 4, 8], [20, 16, 4], [12, 14, 19], [20, 16, 4], [20, 8, 7], [5, 17, 19], [18, 6, 20], [4, 11, 11], [13, 25, 4], [20, 22, 15], [9, 9, 16], [14, 1, 16], [21, 10, 13], [5, 11, 9], [21, 19, 14], [0, 18, 10], [23, 4, 21], [17, 1, 2], [3, 9, 5], [7, 18, 3], [10, 9, 5], [11, 23, 7], [6, 21, 24], [2, 0, 6], [7, 3, 10], [21, 4, 14], [9, 5, 7], [0, 3, 10], [2, 25, 1], [9, 5, 7], [0, 3, 9], [1, 2, 25], [5, 7, 0], [4, 9, 7], [18, 3, 5], [17, 12, 1], [8, 5, 16], [9, 7, 0], [18, 3, 10], [5, 9, 7], [0, 21, 6], [0, 18, 3], [23, 20, 23], [5, 9, 7], [21, 6, 22], [25, 16, 7], [16, 23, 22], [6, 18, 7], [18, 8, 4], [13, 19, 13], [3, 10, 18], [0, 3, 11], [10, 5, 9], [1, 7, 3], [3, 2, 0], [7, 6, 9], [7, 0, 3], [7, 19, 9], [10, 5, 9], [25, 6, 25], [3, 4, 5], [10, 7, 8], [4, 20, 7], [20, 25, 23], [6, 16, 20], [18, 19, 10], [6, 7, 16], [13, 14, 18], [7, 14, 23], [8, 4, 20], [6, 2, 5], [7, 8, 20], [20, 16, 5], [22, 7, 4], [8, 24, 22], [12, 5, 23], [5, 7, 8], [20, 7, 18], [19, 11, 3], [3, 5, 8], [0, 18, 3], [12, 15, 4], [11, 9, 23], [19, 17, 3], [5, 8, 0], [24, 2, 6], [4, 25, 14], [5, 7, 9], [18, 7, 3], [10, 5, 9], [12, 9, 17], [22, 4, 2], [7, 0, 18], [3, 5, 10], [11, 9, 7], [0, 18, 3], [10, 5, 9], [24, 8, 5], [8, 7, 20], [10, 24, 16], [7, 18, 0], [3, 9, 10], [5, 7, 18], [22, 3, 5], [0, 15, 15], [0, 11, 10], [9, 7, 0], [18, 3, 9], [5, 7, 0], [18, 10, 9], [8, 9, 22], [15, 12, 1], [8, 16, 8], [3, 5, 7], [0, 18, 10], [6, 0, 10], [3, 9, 5], [7, 0, 11], [16, 23, 11], [1, 3, 24], [3, 5, 7], [0, 11, 3], [17, 9, 0], [17, 18, 5], [10, 9, 5], [7, 18, 10], [15, 10, 24], [22, 24, 24], [18, 13, 20], [9, 7, 3], [9, 10, 7], [1, 24, 8], [0, 9, 10], [3, 5, 0], [18, 9, 3], [23, 20, 18], [11, 12, 12], [7, 5, 0], [19, 3, 25], [8, 0, 4], [15, 10, 17], [6, 2, 20], [18, 9, 3], [13, 17, 13], [5, 4, 4], [7, 0, 18], [11, 1, 13], [9, 3, 7], [2, 1, 7], [1, 23, 20], [1, 18, 22], [5, 0, 10], [7, 3, 5], [10, 5, 8], [16, 4, 15], [16, 5, 8], [4, 8, 16], [20, 22, 4], [21, 21, 1], [19, 9, 10], [22, 9, 5], [20, 21, 11], [7, 8, 11], [16, 22, 20], [10, 5, 10], [21, 19, 17], [7, 18, 6], [3, 8, 3], [4, 7, 16], [17, 22, 12], [23, 15, 7], [23, 7, 17], [8, 20, 7], [25, 1, 5], [20, 24, 20], [4, 17, 8], [7, 4, 11], [24, 8, 16], [16, 20, 7], [17, 14, 7], [4, 5, 20], [20, 11, 8], [10, 2, 14], [22, 25, 0], [7, 5, 0], [14, 9, 17], [9, 20, 7], [18, 9, 3], [17, 16, 11], [7, 13, 9], [11, 10, 21], [7, 5, 18], [0, 9, 3], [22, 19, 25], [23, 25, 20], [5, 7, 0], [2, 4, 19], [0, 3, 1], [6, 14, 12], [18, 9, 7], [21, 16, 21], [3, 5, 0], [10, 9, 18], [12, 1, 5], [3, 7, 5], [10, 0, 11], [15, 25, 1], [18, 9, 3], [7, 5, 0], [14, 14, 2], [10, 18, 3], [7, 5, 0], [21, 1, 3], [18, 11, 3], [7, 5, 0], [1, 2, 22], [21, 17, 19], [17, 17, 18], [3, 7, 5], [5, 18, 12], [0, 10, 11], [16, 9, 21], [18, 9, 3], [7, 5, 0], [16, 3, 10], [9, 16, 15], [11, 10, 3], [7, 5, 8], [13, 4, 9], [21, 24, 23], [23, 15, 17], [19, 10, 4], [7, 20, 24], [19, 7, 8], [0, 18, 3], [21, 15, 5], [7, 5, 8], [23, 7, 4], [11, 20, 16], [8, 21, 22], [16, 20, 15], [20, 0, 7], [5, 8, 0], [11, 18, 3], [12, 17, 17], [24, 8, 17], [21, 18, 17], [1, 14, 13], [13, 13, 1], [10, 3, 14], [7, 9, 1], [9, 3, 5], [21, 24, 20], [17, 11, 14], [24, 8, 7], [0, 3, 9], [3, 11, 10], [4, 4, 1], [5, 0, 20], [3, 7, 5], [0, 18, 9], [3, 5, 18], [21, 6, 3], [0, 9, 7], [3, 5, 11], [10, 0, 9], [18, 7, 3], [5, 11, 10], [0, 18, 7], [14, 1, 15], [22, 1, 7], [11, 0, 14], [12, 6, 18], [22, 19, 4], [2, 4, 4], [3, 5, 10], [6, 7, 23], [23, 20, 13], [24, 10, 19], [10, 25, 19], [23, 11, 14], [12, 3, 16], [11, 0, 7], [3, 5, 11], [0, 7, 3], [3, 19, 4], [24, 23, 3], [9, 5, 15], [3, 15, 13], [17, 16, 6], [6, 6, 20], [8, 10, 21], [7, 19, 9], [16, 2, 6], [16, 4, 7], [3, 22, 10], [8, 16, 14], [20, 7, 16], [4, 17, 24], [22, 22, 9], [7, 8, 16], [20, 4, 7], [5, 8, 16], [20, 17, 24], [8, 20, 17], [23, 8, 12], [7, 6, 4], [11, 23, 13], [1, 3, 2], [9, 24, 3], [12, 22, 4], [8, 20, 7], [5, 16, 8], [4, 7, 5], [17, 15, 10], [7, 10, 15], [3, 5, 4], [2, 8, 8], [14, 2, 22], [18, 3, 5], [20, 18, 16], [0, 10, 18], [9, 3, 7], [25, 10, 7], [5, 11, 10], [0, 18, 9], [3, 5, 11], [18, 0, 9], [7, 3, 10], [0, 18, 9], [1, 19, 23], [22, 13, 23], [18, 17, 10], [19, 13, 2], [7, 3, 5], [2, 12, 18], [23, 6, 23], [22, 20, 10], [11, 0, 10], [25, 14, 4], [18, 9, 3], [5, 0, 18], [10, 11, 3], [3, 9, 6], [24, 10, 21], [9, 7, 0], [18, 10, 11], [15, 14, 13], [16, 12, 17], [3, 9, 5], [7, 18, 3], [11, 10, 9], [5, 7, 0], [18, 3, 10], [9, 5, 18], [9, 3, 9], [13, 9, 13], [11, 0, 11], [2, 10, 9], [5, 17, 2], [3, 5, 7], [20, 22, 1], [0, 10, 18], [21, 16, 19], [3, 9, 5], [17, 20, 5], [16, 10, 5], [16, 15, 23], [8, 11, 0], [2, 22, 8], [3, 11, 9], [7, 0, 10], [18, 3, 5], [10, 23, 21], [7, 15, 16], [4, 8, 20], [5, 11, 0], [13, 13, 17], [7, 16, 4], [8, 5, 20], [7, 16, 22], [8, 4, 20], [5, 7, 22], [10, 4, 22], [5, 23, 12], [0, 6, 2], [20, 3, 14], [21, 21, 7], [25, 23, 19], [5, 8, 18], [8, 4, 20], [9, 3, 22], [14, 5, 13], [14, 12, 9], [5, 11, 8], [22, 4, 5], [2, 10, 23], [23, 25, 15], [11, 21, 24], [7, 0, 8], [12, 22, 2], [3, 20, 16], [20, 3, 7], [9, 21, 11], [5, 0, 18], [3, 22, 24], [11, 10, 3], [19, 14, 15], [9, 7, 5], [13, 21, 3], [0, 11, 18], [10, 3, 5], [7, 0, 18], [7, 21, 11], [3, 5, 7], [18, 6, 10], [8, 11, 6], [13, 17, 12], [7, 4, 8], [20, 7, 8], [4, 7, 8], [5, 0, 3], [8, 20, 12], [17, 19, 9], [7, 5, 0], [18, 3, 5], [0, 18, 3], [17, 9, 7], [3, 19, 19], [5, 7, 18], [22, 9, 3], [3, 7, 5], [9, 12, 3], [0, 22, 22], [0, 15, 3], [9, 24, 25], [5, 8, 20], [18, 10, 16], [7, 17, 6], [8, 20, 16], [19, 7, 8], [22, 2, 0], [17, 7, 8], [8, 21, 7], [20, 7, 4], [18, 15, 10], [18, 4, 0], [1, 3, 1], [11, 7, 5], [22, 24, 20], [0, 18, 11], [3, 9, 5], [15, 25, 3], [20, 4, 15], [18, 0, 3], [25, 21, 24], [10, 9, 5], [7, 0, 3], [10, 9, 7], [14, 25, 23], [5, 0, 3], [11, 5, 7], [0, 3, 5], [22, 3, 19], [22, 11, 21], [0, 18, 11], [3, 5, 7], [0, 18, 11], [18, 25, 14], [3, 5, 7], [20, 10, 16], [0, 24, 12], [2, 11, 23], [1, 0, 4], [0, 3, 11], [5, 7, 0], [18, 3, 8], [12, 10, 8], [5, 7, 0], [19, 3, 19], [3, 8, 5], [3, 7, 11], [7, 0, 3], [5, 8, 20], [0, 7, 18], [3, 5, 8], [18, 20, 19], [16, 10, 24], [20, 7, 18], [22, 1, 6], [3, 8, 7], [0, 22, 15], [11, 9, 5], [5, 7, 0], [14, 23, 6], [8, 8, 12], [8, 3, 20], [13, 17, 18], [5, 7, 0], [10, 7, 17], [18, 3, 8], [22, 17, 20], [20, 7, 5], [0, 18, 3], [5, 9, 5], [18, 0, 20], [11, 0, 9], [18, 3, 7], [18, 18, 25], [17, 3, 10], [5, 11, 0], [2, 15, 4], [12, 18, 12], [18, 3, 5], [13, 9, 1], [17, 7, 1], [14, 8, 0], [20, 3, 8], [20, 7, 5], [3, 9, 1], [0, 11, 5], [7, 14, 24], [3, 8, 14], [15, 5, 19], [6, 17, 20], [2, 5, 11], [15, 21, 22], [24, 4, 17], [13, 18, 23], [8, 21, 0], [7, 8, 20], [0, 4, 7], [25, 19, 6], [5, 14, 8], [0, 20, 3], [7, 5, 0], [6, 17, 2], [13, 4, 10], [3, 11, 10], [14, 20, 3], [10, 2, 2], [4, 25, 19], [23, 13, 24], [14, 5, 6], [7, 5, 0], [8, 21, 16], [14, 8, 18], [8, 0, 5], [3, 20, 5], [12, 5, 3], [7, 0, 14], [4, 8, 12], [8, 18, 3], [20, 5, 7], [0, 18, 14], [8, 3, 9], [0, 17, 17], [3, 3, 21], [5, 1, 5], [0, 18, 3], [5, 0, 10], [9, 5, 0], [12, 16, 13], [15, 9, 18], [21, 18, 3], [5, 13, 10], [11, 0, 18], [9, 3, 5], [10, 11, 0], [18, 9, 13], [20, 9, 5], [3, 5, 11], [3, 18, 11], [13, 8, 12], [10, 0, 9], [13, 4, 8], [11, 0, 22], [9, 4, 7], [15, 18, 12], [8, 14, 0], [22, 20, 4], [10, 5, 25], [7, 14, 8], [10, 2, 20], [0, 22, 20], [14, 23, 24], [18, 13, 20], [4, 1, 3], [4, 7, 8], [14, 0, 22], [20, 4, 5], [10, 6, 22], [7, 8, 0], [24, 9, 11], [4, 20, 7], [5, 0, 8], [3, 5, 7], [6, 18, 9], [0, 18, 9], [24, 8, 5], [14, 10, 19], [3, 7, 5], [14, 17, 6], [24, 12, 11], [20, 14, 1], [20, 24, 4], [17, 6, 8], [23, 5, 13], [20, 0, 9], [3, 5, 0], [7, 13, 7], [17, 2, 1], [10, 18, 12], [23, 13, 2], [10, 1, 13], [7, 4, 21], [2, 9, 0], [18, 3, 5], [10, 21, 16], [5, 8, 13], [6, 3, 11], [3, 24, 15], [9, 0, 18], [14, 3, 5], [2, 17, 15], [2, 5, 15], [8, 9, 0], [7, 13, 23], [18, 14, 3], [8, 5, 9], [0, 18, 15], [14, 3, 8], [15, 21, 12], [5, 9, 0], [23, 6, 9], [4, 22, 22], [18, 15, 14], [20, 19, 11], [0, 22, 9], [10, 17, 8], [3, 8, 0], [3, 5, 13], [18, 15, 14], [9, 25, 14], [11, 1, 19], [23, 22, 15], [18, 22, 18], [21, 1, 23], [3, 8, 0], [23, 2, 20], [11, 11, 25], [24, 24, 15], [18, 15, 14], [10, 0, 9], [3, 8, 5], [0, 14, 15], [3, 8, 5], [0, 15, 14], [4, 10, 12], [8, 3, 9], [6, 24, 25], [5, 14, 0], [2, 21, 14], [23, 1, 4], [8, 9, 3], [17, 23, 20], [17, 8, 22], [0, 22, 15], [7, 4, 0], [11, 2, 23], [10, 19, 18], [22, 7, 4], [20, 7, 22], [23, 3, 23], [4, 8, 14], [0, 22, 20], [14, 14, 7], [7, 4, 8], [10, 24, 13], [24, 19, 22], [14, 5, 0], [1, 13, 8], [20, 4, 3], [8, 5, 20], [7, 0, 18], [3, 8, 5], [19, 12, 18], [14, 2, 10], [0, 18, 3], [5, 9, 0], [10, 3, 11], [0, 9, 11], [9, 5, 7], [18, 5, 22], [22, 18, 18], [0, 3, 9], [7, 0, 3], [4, 9, 19], [10, 9, 0], [3, 1, 13], [1, 22, 19], [17, 9, 16], [0, 10, 16], [3, 9, 0], [6, 22, 12], [25, 0, 21], [21, 2, 9], [3, 0, 9], [2, 10, 9], [7, 15, 18], [13, 23, 2], [19, 6, 25], [2, 6, 25], [0, 8, 9], [8, 6, 11], [21, 13, 10], [1, 25, 15], [3, 19, 20], [9, 5, 0], [18, 3, 10], [5, 9, 0], [4, 14, 10], [12, 21, 5], [11, 12, 18], [18, 3, 5], [3, 18, 3], [8, 24, 5], [18, 3, 8], [18, 19, 3], [5, 18, 3], [9, 22, 4], [8, 5, 9], [18, 0, 21], [0, 18, 14], [15, 3, 8], [5, 9, 0], [18, 24, 16], [18, 15, 14], [20, 22, 18], [18, 12, 2], [19, 21, 6], [20, 23, 4], [17, 18, 18], [14, 17, 24], [13, 4, 4], [3, 8, 9], [8, 1, 20], [0, 18, 14], [3, 8, 5], [9, 0, 3], [7, 2, 24], [14, 8, 9], [5, 0, 14], [3, 8, 9], [5, 0, 14], [8, 3, 9], [15, 0, 8], [15, 13, 5], [21, 23, 0], [16, 11, 0], [0, 25, 10], [23, 18, 16], [6, 15, 0], [9, 23, 23], [23, 14, 14], [22, 4, 8], [11, 2, 20], [22, 25, 24], [15, 14, 6], [6, 15, 0], [22, 8, 4], [6, 8, 22], [0, 17, 20], [6, 4, 24], [7, 6, 4], [19, 2, 19], [25, 9, 3], [17, 8, 20], [19, 17, 5], [6, 0, 14], [5, 13, 11], [8, 0, 18], [3, 10, 5], [12, 20, 13], [20, 11, 2], [9, 18, 3], [9, 13, 10], [2, 2, 12], [11, 7, 6], [2, 10, 9], [0, 3, 5], [14, 25, 17], [17, 2, 23], [9, 0, 18], [16, 23, 24], [3, 14, 15], [16, 12, 16], [5, 8, 9], [20, 16, 16], [0, 18, 14], [4, 8, 6], [8, 17, 24], [6, 7, 4], [3, 1, 7], [17, 7, 0], [25, 23, 18], [24, 10, 16], [10, 23, 9], [8, 6, 0], [15, 17, 14], [16, 15, 14], [7, 18, 20], [2, 1, 13], [18, 18, 25], [6, 8, 16], [9, 17, 15], [6, 8, 9], [4, 5, 0], [22, 19, 1], [18, 9, 3], [24, 9, 23], [5, 10, 0], [18, 9, 3], [18, 7, 19], [16, 14, 19], [24, 24, 15], [20, 17, 6], [22, 16, 24], [8, 20, 7], [23, 3, 14], [3, 5, 6], [22, 22, 2], [10, 7, 13], [8, 20, 3], [11, 9, 0], [18, 7, 6], [8, 4, 18], [3, 9, 11], [9, 17, 12], [7, 24, 6], [21, 15, 7], [8, 24, 4], [5, 6, 9], [7, 17, 6], [8, 20, 0], [24, 3, 22], [17, 8, 22], [17, 8, 6], [14, 16, 18], [0, 7, 3], [7, 16, 12], [8, 5, 0], [20, 7, 3], [20, 0, 3], [12, 3, 21], [5, 10, 18], [18, 12, 6]]\n"
          ]
        }
      ]
    },
    {
      "cell_type": "code",
      "source": [
        "x = torch.FloatTensor(x)\n",
        "y = torch.FloatTensor(y)\n",
        "y = y.unsqueeze(1)\n",
        "print(y.shape)"
      ],
      "metadata": {
        "colab": {
          "base_uri": "https://localhost:8080/"
        },
        "id": "Eu362tZlLA3b",
        "outputId": "979b68b0-ae67-43f6-8b26-39fb74885241"
      },
      "execution_count": null,
      "outputs": [
        {
          "output_type": "stream",
          "name": "stdout",
          "text": [
            "torch.Size([3700, 1])\n"
          ]
        }
      ]
    },
    {
      "cell_type": "code",
      "source": [
        "\n",
        "losses = []\n",
        "accur = []\n",
        "training_size = 3600\n",
        "testing_loss = torch.FloatTensor([1000])\n",
        "i = 0\n",
        "while testing_loss.data > 0.30:\n",
        "  for j in range(0, training_size):\n",
        "    \n",
        "    x_train = x[j]\n",
        "    y_train = y[j]\n",
        "\n",
        "\n",
        "    output = model(x_train)\n",
        "    output = output.unsqueeze(1)\n",
        "\n",
        "    loss = loss_fn(output,y_train.reshape(-1,1))\n",
        " \n",
        "\n",
        "    predicted = model(torch.tensor(x,dtype=torch.float32))\n",
        "\n",
        "    optimizer.zero_grad()\n",
        "    loss.backward()\n",
        "    optimizer.step()\n",
        "\n",
        "  if i%50 == 0:\n",
        "    losses.append(loss)\n",
        "    print(\"test loss: {}\".format(testing_loss))\n",
        "    print(\"epoch {}\\tloss : {}\".format(i,loss))\n",
        "  \n",
        "  test_predicted = model(x[training_size::])\n",
        "  testing_loss = loss_fn(test_predicted, y[training_size::])\n",
        "  i+=1\n",
        "\n",
        "  "
      ],
      "metadata": {
        "colab": {
          "base_uri": "https://localhost:8080/"
        },
        "id": "sPwC8xFDI8HR",
        "outputId": "4435d4f6-972c-4df1-bbbc-44fea4ad356d"
      },
      "execution_count": null,
      "outputs": [
        {
          "output_type": "stream",
          "name": "stderr",
          "text": [
            "<ipython-input-77-647bdff44189>:22: UserWarning: To copy construct from a tensor, it is recommended to use sourceTensor.clone().detach() or sourceTensor.clone().detach().requires_grad_(True), rather than torch.tensor(sourceTensor).\n",
            "  predicted = model(torch.tensor(x,dtype=torch.float32))\n"
          ]
        },
        {
          "output_type": "stream",
          "name": "stdout",
          "text": [
            "test loss: tensor([1000.])\n",
            "epoch 0\tloss : 0.8271127343177795\n",
            "test loss: 0.5396196842193604\n",
            "epoch 50\tloss : 0.5136005282402039\n",
            "test loss: 0.5247434377670288\n",
            "epoch 100\tloss : 0.5270731449127197\n",
            "test loss: 0.5195404291152954\n",
            "epoch 150\tloss : 0.5036362409591675\n",
            "test loss: 0.5159302353858948\n",
            "epoch 200\tloss : 0.496356338262558\n",
            "test loss: 0.5136367678642273\n",
            "epoch 250\tloss : 0.48720917105674744\n",
            "test loss: 0.5097549557685852\n",
            "epoch 300\tloss : 0.4772953391075134\n",
            "test loss: 0.506089448928833\n",
            "epoch 350\tloss : 0.46558529138565063\n",
            "test loss: 0.5035054087638855\n",
            "epoch 400\tloss : 0.4600585401058197\n",
            "test loss: 0.4999019205570221\n",
            "epoch 450\tloss : 0.4477069079875946\n",
            "test loss: 0.49723368883132935\n",
            "epoch 500\tloss : 0.4320468306541443\n",
            "test loss: 0.4941714406013489\n",
            "epoch 550\tloss : 0.4136645793914795\n",
            "test loss: 0.49208924174308777\n",
            "epoch 600\tloss : 0.3922692537307739\n",
            "test loss: 0.4923801124095917\n",
            "epoch 650\tloss : 0.3835844397544861\n",
            "test loss: 0.49384522438049316\n",
            "epoch 700\tloss : 0.3767056465148926\n",
            "test loss: 0.49438929557800293\n",
            "epoch 750\tloss : 0.37261226773262024\n",
            "test loss: 0.4952722191810608\n",
            "epoch 800\tloss : 0.3597789704799652\n",
            "test loss: 0.4946560561656952\n",
            "epoch 850\tloss : 0.34808671474456787\n"
          ]
        }
      ]
    },
    {
      "cell_type": "code",
      "source": [
        "print(losses)"
      ],
      "metadata": {
        "colab": {
          "base_uri": "https://localhost:8080/"
        },
        "id": "moNDCvf-Ndnd",
        "outputId": "4687b03b-d7c4-42fd-9776-bf00a7fbe821"
      },
      "execution_count": null,
      "outputs": [
        {
          "output_type": "stream",
          "name": "stdout",
          "text": [
            "[tensor(0.0118, grad_fn=<BinaryCrossEntropyBackward0>), tensor(0.0010, grad_fn=<BinaryCrossEntropyBackward0>), tensor(0.0004, grad_fn=<BinaryCrossEntropyBackward0>), tensor(0.0002, grad_fn=<BinaryCrossEntropyBackward0>), tensor(0.0002, grad_fn=<BinaryCrossEntropyBackward0>), tensor(0.0001, grad_fn=<BinaryCrossEntropyBackward0>), tensor(9.2988e-05, grad_fn=<BinaryCrossEntropyBackward0>), tensor(7.7608e-05, grad_fn=<BinaryCrossEntropyBackward0>), tensor(6.6283e-05, grad_fn=<BinaryCrossEntropyBackward0>), tensor(5.7818e-05, grad_fn=<BinaryCrossEntropyBackward0>), tensor(5.1142e-05, grad_fn=<BinaryCrossEntropyBackward0>), tensor(4.5777e-05, grad_fn=<BinaryCrossEntropyBackward0>), tensor(4.1366e-05, grad_fn=<BinaryCrossEntropyBackward0>), tensor(3.7671e-05, grad_fn=<BinaryCrossEntropyBackward0>)]\n"
          ]
        }
      ]
    },
    {
      "cell_type": "code",
      "source": [
        "new_losses = []\n",
        "for ele in losses:\n",
        "  new_losses.append(ele.detach().numpy())\n",
        "\n",
        "print(new_losses)"
      ],
      "metadata": {
        "colab": {
          "base_uri": "https://localhost:8080/",
          "height": 241
        },
        "id": "GKkiVhgJNzRj",
        "outputId": "8aed4f40-ed8f-4c4a-b533-be0c732fd965"
      },
      "execution_count": null,
      "outputs": [
        {
          "output_type": "error",
          "ename": "NameError",
          "evalue": "ignored",
          "traceback": [
            "\u001b[0;31m---------------------------------------------------------------------------\u001b[0m",
            "\u001b[0;31mNameError\u001b[0m                                 Traceback (most recent call last)",
            "\u001b[0;32m<ipython-input-1-69f30b27e7cd>\u001b[0m in \u001b[0;36m<module>\u001b[0;34m\u001b[0m\n\u001b[1;32m      1\u001b[0m \u001b[0mnew_losses\u001b[0m \u001b[0;34m=\u001b[0m \u001b[0;34m[\u001b[0m\u001b[0;34m]\u001b[0m\u001b[0;34m\u001b[0m\u001b[0;34m\u001b[0m\u001b[0m\n\u001b[0;32m----> 2\u001b[0;31m \u001b[0;32mfor\u001b[0m \u001b[0mele\u001b[0m \u001b[0;32min\u001b[0m \u001b[0mlosses\u001b[0m\u001b[0;34m:\u001b[0m\u001b[0;34m\u001b[0m\u001b[0;34m\u001b[0m\u001b[0m\n\u001b[0m\u001b[1;32m      3\u001b[0m   \u001b[0mnew_losses\u001b[0m\u001b[0;34m.\u001b[0m\u001b[0mappend\u001b[0m\u001b[0;34m(\u001b[0m\u001b[0mele\u001b[0m\u001b[0;34m.\u001b[0m\u001b[0mdetach\u001b[0m\u001b[0;34m(\u001b[0m\u001b[0;34m)\u001b[0m\u001b[0;34m.\u001b[0m\u001b[0mnumpy\u001b[0m\u001b[0;34m(\u001b[0m\u001b[0;34m)\u001b[0m\u001b[0;34m)\u001b[0m\u001b[0;34m\u001b[0m\u001b[0;34m\u001b[0m\u001b[0m\n\u001b[1;32m      4\u001b[0m \u001b[0;34m\u001b[0m\u001b[0m\n\u001b[1;32m      5\u001b[0m \u001b[0mprint\u001b[0m\u001b[0;34m(\u001b[0m\u001b[0mnew_losses\u001b[0m\u001b[0;34m)\u001b[0m\u001b[0;34m\u001b[0m\u001b[0;34m\u001b[0m\u001b[0m\n",
            "\u001b[0;31mNameError\u001b[0m: name 'losses' is not defined"
          ]
        }
      ]
    },
    {
      "cell_type": "code",
      "source": [
        "plt.plot(new_losses)\n",
        "plt.title('Loss vs Epochs')\n",
        "plt.xlabel('Epochs')\n",
        "plt.ylabel('loss')"
      ],
      "metadata": {
        "colab": {
          "base_uri": "https://localhost:8080/",
          "height": 313
        },
        "id": "Z49M6WJjNVrc",
        "outputId": "1bf094e6-8eed-4594-8f39-8458f0b4654e"
      },
      "execution_count": null,
      "outputs": [
        {
          "output_type": "execute_result",
          "data": {
            "text/plain": [
              "Text(0, 0.5, 'loss')"
            ]
          },
          "metadata": {},
          "execution_count": 39
        },
        {
          "output_type": "display_data",
          "data": {
            "text/plain": [
              "<Figure size 432x288 with 1 Axes>"
            ],
            "image/png": "[encoded data removed]"
          },
          "metadata": {
            "needs_background": "light"
          }
        }
      ]
    },
    {
      "cell_type": "code",
      "source": [
        "predicted = model(x[42])\n",
        "print(predicted)"
      ],
      "metadata": {
        "colab": {
          "base_uri": "https://localhost:8080/"
        },
        "id": "AxWBYsbSOBH3",
        "outputId": "08c45e75-024a-4aa0-d9c4-9c60837c0d65"
      },
      "execution_count": null,
      "outputs": [
        {
          "output_type": "stream",
          "name": "stdout",
          "text": [
            "tensor([0.6240], grad_fn=<SigmoidBackward0>)\n"
          ]
        }
      ]
    },
    {
      "cell_type": "code",
      "source": [
        "new_user = UserRandomText(label_number=1, total_labels=2, length = input_length)\n",
        "new_user.generateNText(10, input_length)"
      ],
      "metadata": {
        "colab": {
          "base_uri": "https://localhost:8080/"
        },
        "id": "bSCL-h8qPchE",
        "outputId": "8fd76d5a-cbfd-4090-dc2e-eade51e6c6e5"
      },
      "execution_count": null,
      "outputs": [
        {
          "name": "stdout",
          "output_type": "stream",
          "text": [
            "Type 50dfuiasdfiuasodfiaosjdfasjdfl;vknmkcnvx,cvaskdj;fgadgpoiuhqrqpiughfjkasdklfj\n"
          ]
        }
      ]
    },
    {
      "cell_type": "code",
      "source": [
        "new_machine = MachineRandomText(total_labels = 2)\n",
        "new_machine.generateNText(20, input_length)"
      ],
      "metadata": {
        "id": "uCNXTM3zRFP1"
      },
      "execution_count": null,
      "outputs": []
    },
    {
      "cell_type": "code",
      "source": [
        "new_user_numberized = []\n",
        "for ele in new_user.dataset:\n",
        "  cur = []\n",
        "  for char in ele:\n",
        "    cur.append(ord(char)-97)\n",
        "  new_user_numberized.append(cur)\n",
        "\n",
        "\n",
        "print(new_user_numberized)"
      ],
      "metadata": {
        "colab": {
          "base_uri": "https://localhost:8080/"
        },
        "id": "WGWOY4p9P6oe",
        "outputId": "1abc9264-f586-4cbb-f7ec-f0ca0ff47e1c"
      },
      "execution_count": null,
      "outputs": [
        {
          "output_type": "stream",
          "name": "stdout",
          "text": [
            "[[3, 5, 20, 8, 0], [18, 3, 5, 8, 20], [0, 18, 14, 3, 5], [8, 0, 14, 18, 9], [3, 5, 0, 18, 9], [3, 5, 11, 21, 10], [13, 12, 10, 2, 13], [21, 23, 2, 21, 0], [18, 10, 3, 9, 5], [6, 0, 3, 6, 15]]\n"
          ]
        }
      ]
    },
    {
      "cell_type": "code",
      "source": [
        "new_machine_numberized = []\n",
        "for ele in new_machine.dataset:\n",
        "  cur = []\n",
        "  for char in ele:\n",
        "    cur.append(ord(char)-97)\n",
        "  new_machine_numberized.append(cur)\n",
        "\n",
        "\n",
        "print(new_machine_numberized)"
      ],
      "metadata": {
        "colab": {
          "base_uri": "https://localhost:8080/"
        },
        "id": "NVqEOguPjLJl",
        "outputId": "905c4347-6968-4c31-9ae3-71126f2ab727"
      },
      "execution_count": null,
      "outputs": [
        {
          "output_type": "stream",
          "name": "stdout",
          "text": [
            "[[7, 9, 24, 2, 5], [2, 10, 17, 6, 12], [19, 15, 14, 13, 24], [4, 6, 0, 6, 9], [11, 14, 17, 17, 8], [19, 12, 13, 21, 0], [22, 4, 6, 16, 2], [18, 4, 8, 2, 18], [13, 5, 23, 2, 11], [9, 8, 5, 13, 5], [24, 8, 6, 7, 2], [5, 6, 25, 11, 1], [18, 21, 18, 22, 24], [24, 13, 13, 10, 6], [6, 19, 20, 10, 10], [2, 23, 9, 8, 18], [14, 15, 10, 20, 12], [5, 13, 20, 20, 16], [19, 9, 13, 21, 7], [8, 19, 18, 1, 14]]\n"
          ]
        }
      ]
    },
    {
      "cell_type": "code",
      "source": [
        "new_user_numberized = torch.FloatTensor(new_user_numberized)"
      ],
      "metadata": {
        "id": "_YaQLB90QHlY"
      },
      "execution_count": null,
      "outputs": []
    },
    {
      "cell_type": "code",
      "source": [
        "new_machine_numberized = torch.FloatTensor(new_machine_numberized)"
      ],
      "metadata": {
        "id": "rUS1s_EPjWcu"
      },
      "execution_count": null,
      "outputs": []
    },
    {
      "cell_type": "code",
      "source": [
        "predicted = model(new_user_numberized)\n",
        "count = 0\n",
        "\n",
        "\n",
        "for i in range(0, predicted.shape[0]):\n",
        "\n",
        "  if predicted[i].data >= 0.5:\n",
        "      count +=1\n",
        "\n",
        "print(count)\n",
        "  \n"
      ],
      "metadata": {
        "colab": {
          "base_uri": "https://localhost:8080/"
        },
        "id": "Nin04iOUQYWr",
        "outputId": "0a729325-aea4-40c2-b3a1-c4081d576d6c"
      },
      "execution_count": null,
      "outputs": [
        {
          "output_type": "stream",
          "name": "stdout",
          "text": [
            "7\n"
          ]
        }
      ]
    },
    {
      "cell_type": "code",
      "source": [
        "predicted = model(new_machine_numberized)\n",
        "count = 0\n",
        "\n",
        "\n",
        "for i in range(0, predicted.shape[0]):\n",
        "\n",
        "  if predicted[i].data <= 0.5:\n",
        "      count +=1\n",
        "print(predicted)\n",
        "print(count)\n",
        "\n"
      ],
      "metadata": {
        "colab": {
          "base_uri": "https://localhost:8080/"
        },
        "id": "NsdDLt7cjaDj",
        "outputId": "7d91b9ef-1025-43b9-c995-26c9ffde872e"
      },
      "execution_count": null,
      "outputs": [
        {
          "output_type": "stream",
          "name": "stdout",
          "text": [
            "tensor([[0.6963],\n",
            "        [0.5992],\n",
            "        [0.1963],\n",
            "        [0.7532],\n",
            "        [0.1311],\n",
            "        [0.2298],\n",
            "        [0.8230],\n",
            "        [0.4932],\n",
            "        [0.6524],\n",
            "        [0.4658],\n",
            "        [0.7267],\n",
            "        [0.4163],\n",
            "        [0.0225],\n",
            "        [0.2917],\n",
            "        [0.3874],\n",
            "        [0.5135],\n",
            "        [0.0793],\n",
            "        [0.1122],\n",
            "        [0.0971],\n",
            "        [0.2711]], grad_fn=<SigmoidBackward0>)\n",
            "13\n"
          ]
        }
      ]
    }
  ]
}